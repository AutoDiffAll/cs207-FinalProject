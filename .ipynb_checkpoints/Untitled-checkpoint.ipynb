{
 "cells": [
  {
   "cell_type": "code",
   "execution_count": 3,
   "metadata": {},
   "outputs": [],
   "source": [
    "from AutoDiff.variables import Variable\n",
    "import numpy as np\n",
    "import AutoDiff.AD_numpy as anp\n",
    "import pandas as pd"
   ]
  },
  {
   "cell_type": "code",
   "execution_count": 4,
   "metadata": {},
   "outputs": [],
   "source": [
    "a = Variable('a', 3)\n",
    "b = Variable('b', 1)\n",
    "c = Variable('c', 2)"
   ]
  },
  {
   "cell_type": "code",
   "execution_count": 5,
   "metadata": {},
   "outputs": [],
   "source": [
    "def vec_fn(x, y, z):\n",
    "    f1 = x*y + anp.sin(y) + anp.cos(z)\n",
    "    f2 = x+y+ anp.sin(x*y)\n",
    "    return np.array([f1, f2])"
   ]
  },
  {
   "cell_type": "code",
   "execution_count": 6,
   "metadata": {},
   "outputs": [
    {
     "data": {
      "text/plain": [
       "array([Variable name: f(f(f(a,b),b),c), Value: 3.425324148260754, Derivatives: {'c': -0.9092974268256817, 'b': 3.5403023058681398, 'a': 1},\n",
       "       Variable name: f(f(a,b),f(a,b)), Value: 4.141120008059867, Derivatives: {'b': -1.9699774898013365, 'a': 0.010007503399554585}],\n",
       "      dtype=object)"
      ]
     },
     "execution_count": 6,
     "metadata": {},
     "output_type": "execute_result"
    }
   ],
   "source": [
    "vec_fn(a, b, c)"
   ]
  },
  {
   "cell_type": "markdown",
   "metadata": {},
   "source": [
    "What we want"
   ]
  },
  {
   "cell_type": "code",
   "execution_count": 7,
   "metadata": {},
   "outputs": [
    {
     "data": {
      "text/plain": [
       "array([3.42532415, 4.14112001])"
      ]
     },
     "execution_count": 7,
     "metadata": {},
     "output_type": "execute_result"
    }
   ],
   "source": [
    "val_vec = np.array([i.val for i in vec_fn(a, b, c)])\n",
    "val_vec"
   ]
  },
  {
   "cell_type": "code",
   "execution_count": 8,
   "metadata": {},
   "outputs": [
    {
     "data": {
      "text/html": [
       "<div>\n",
       "<style scoped>\n",
       "    .dataframe tbody tr th:only-of-type {\n",
       "        vertical-align: middle;\n",
       "    }\n",
       "\n",
       "    .dataframe tbody tr th {\n",
       "        vertical-align: top;\n",
       "    }\n",
       "\n",
       "    .dataframe thead th {\n",
       "        text-align: right;\n",
       "    }\n",
       "</style>\n",
       "<table border=\"1\" class=\"dataframe\">\n",
       "  <thead>\n",
       "    <tr style=\"text-align: right;\">\n",
       "      <th></th>\n",
       "      <th>a</th>\n",
       "      <th>b</th>\n",
       "      <th>c</th>\n",
       "    </tr>\n",
       "  </thead>\n",
       "  <tbody>\n",
       "    <tr>\n",
       "      <th>f(f(f(a,b),b),c)</th>\n",
       "      <td>1.000000</td>\n",
       "      <td>3.540302</td>\n",
       "      <td>-0.909297</td>\n",
       "    </tr>\n",
       "    <tr>\n",
       "      <th>f(f(a,b),f(a,b))</th>\n",
       "      <td>0.010008</td>\n",
       "      <td>-1.969977</td>\n",
       "      <td>0.000000</td>\n",
       "    </tr>\n",
       "  </tbody>\n",
       "</table>\n",
       "</div>"
      ],
      "text/plain": [
       "                         a         b         c\n",
       "f(f(f(a,b),b),c)  1.000000  3.540302 -0.909297\n",
       "f(f(a,b),f(a,b))  0.010008 -1.969977  0.000000"
      ]
     },
     "execution_count": 8,
     "metadata": {},
     "output_type": "execute_result"
    }
   ],
   "source": [
    "jacobian = pd.concat([pd.DataFrame(i.jacobian(), index=[i.name]) for i in vec_fn(a,b,c)], sort=True).fillna(0)\n",
    "jacobian"
   ]
  },
  {
   "cell_type": "code",
   "execution_count": 9,
   "metadata": {},
   "outputs": [],
   "source": [
    "def vectorize_variable(func):\n",
    "    def func_wrapper(*args):\n",
    "        variable_vec = func(*args)\n",
    "        \n",
    "        # check whether it is a vector function\n",
    "        if isinstance(variable_vec, Variable):\n",
    "            raise TypeError('Function is not a vector function!')\n",
    "            \n",
    "        return {'variables': variable_vec,\n",
    "               'values': np.array([i.val for i in variable_vec]),\n",
    "               'jacobian': pd.concat([pd.DataFrame(i.jacobian(), index=[i.name]) for i in variable_vec], sort=True).fillna(0)}\n",
    "    return func_wrapper"
   ]
  },
  {
   "cell_type": "code",
   "execution_count": 10,
   "metadata": {},
   "outputs": [],
   "source": [
    "@vectorize_variable\n",
    "def vec_fn(x, y, z):\n",
    "    f1 = x*y + anp.sin(y) + anp.cos(z)\n",
    "    f2 = x+y+ anp.sin(x*y)\n",
    "    return np.array([f1, f2])"
   ]
  },
  {
   "cell_type": "code",
   "execution_count": 11,
   "metadata": {},
   "outputs": [
    {
     "data": {
      "text/plain": [
       "array([3.42532415, 4.14112001])"
      ]
     },
     "execution_count": 11,
     "metadata": {},
     "output_type": "execute_result"
    }
   ],
   "source": [
    "vec_fn(a,b,c)['values']"
   ]
  },
  {
   "cell_type": "code",
   "execution_count": 12,
   "metadata": {},
   "outputs": [
    {
     "data": {
      "text/html": [
       "<div>\n",
       "<style scoped>\n",
       "    .dataframe tbody tr th:only-of-type {\n",
       "        vertical-align: middle;\n",
       "    }\n",
       "\n",
       "    .dataframe tbody tr th {\n",
       "        vertical-align: top;\n",
       "    }\n",
       "\n",
       "    .dataframe thead th {\n",
       "        text-align: right;\n",
       "    }\n",
       "</style>\n",
       "<table border=\"1\" class=\"dataframe\">\n",
       "  <thead>\n",
       "    <tr style=\"text-align: right;\">\n",
       "      <th></th>\n",
       "      <th>a</th>\n",
       "      <th>b</th>\n",
       "      <th>c</th>\n",
       "    </tr>\n",
       "  </thead>\n",
       "  <tbody>\n",
       "    <tr>\n",
       "      <th>f(f(f(a,b),b),c)</th>\n",
       "      <td>1.000000</td>\n",
       "      <td>3.540302</td>\n",
       "      <td>-0.909297</td>\n",
       "    </tr>\n",
       "    <tr>\n",
       "      <th>f(f(a,b),f(a,b))</th>\n",
       "      <td>0.010008</td>\n",
       "      <td>-1.969977</td>\n",
       "      <td>0.000000</td>\n",
       "    </tr>\n",
       "  </tbody>\n",
       "</table>\n",
       "</div>"
      ],
      "text/plain": [
       "                         a         b         c\n",
       "f(f(f(a,b),b),c)  1.000000  3.540302 -0.909297\n",
       "f(f(a,b),f(a,b))  0.010008 -1.969977  0.000000"
      ]
     },
     "execution_count": 12,
     "metadata": {},
     "output_type": "execute_result"
    }
   ],
   "source": [
    "vec_fn(a,b,c)['jacobian']"
   ]
  },
  {
   "cell_type": "code",
   "execution_count": 21,
   "metadata": {},
   "outputs": [],
   "source": [
    "@vectorize_variable\n",
    "def fn(x, y):\n",
    "    return x**2 + y**2"
   ]
  },
  {
   "cell_type": "code",
   "execution_count": 22,
   "metadata": {},
   "outputs": [
    {
     "ename": "TypeError",
     "evalue": "Function is not a vector function!",
     "output_type": "error",
     "traceback": [
      "\u001b[1;31m---------------------------------------------------------------------------\u001b[0m",
      "\u001b[1;31mTypeError\u001b[0m                                 Traceback (most recent call last)",
      "\u001b[1;32m<ipython-input-22-633656940b1b>\u001b[0m in \u001b[0;36m<module>\u001b[1;34m()\u001b[0m\n\u001b[1;32m----> 1\u001b[1;33m \u001b[0mfn\u001b[0m\u001b[1;33m(\u001b[0m\u001b[0ma\u001b[0m\u001b[1;33m,\u001b[0m\u001b[0mb\u001b[0m\u001b[1;33m)\u001b[0m\u001b[1;33m\u001b[0m\u001b[0m\n\u001b[0m",
      "\u001b[1;32m<ipython-input-20-c5b0cf07503c>\u001b[0m in \u001b[0;36mfunc_wrapper\u001b[1;34m(*args)\u001b[0m\n\u001b[0;32m      3\u001b[0m         \u001b[0mvariable_vec\u001b[0m \u001b[1;33m=\u001b[0m \u001b[0mfunc\u001b[0m\u001b[1;33m(\u001b[0m\u001b[1;33m*\u001b[0m\u001b[0margs\u001b[0m\u001b[1;33m)\u001b[0m\u001b[1;33m\u001b[0m\u001b[0m\n\u001b[0;32m      4\u001b[0m \u001b[1;33m\u001b[0m\u001b[0m\n\u001b[1;32m----> 5\u001b[1;33m         \u001b[1;32mreturn\u001b[0m \u001b[0mvector_Variable\u001b[0m\u001b[1;33m(\u001b[0m\u001b[0mvariable_vec\u001b[0m\u001b[1;33m)\u001b[0m\u001b[1;33m\u001b[0m\u001b[0m\n\u001b[0m\u001b[0;32m      6\u001b[0m     \u001b[1;32mreturn\u001b[0m \u001b[0mfunc_wrapper\u001b[0m\u001b[1;33m\u001b[0m\u001b[0m\n",
      "\u001b[1;32m<ipython-input-19-9cfc786652d6>\u001b[0m in \u001b[0;36m__init__\u001b[1;34m(self, variable_vec)\u001b[0m\n\u001b[0;32m      4\u001b[0m         \u001b[1;31m# check that it is not single variable\u001b[0m\u001b[1;33m\u001b[0m\u001b[1;33m\u001b[0m\u001b[0m\n\u001b[0;32m      5\u001b[0m         \u001b[1;32mif\u001b[0m \u001b[0misinstance\u001b[0m\u001b[1;33m(\u001b[0m\u001b[0mvariable_vec\u001b[0m\u001b[1;33m,\u001b[0m \u001b[0mVariable\u001b[0m\u001b[1;33m)\u001b[0m\u001b[1;33m:\u001b[0m\u001b[1;33m\u001b[0m\u001b[0m\n\u001b[1;32m----> 6\u001b[1;33m             \u001b[1;32mraise\u001b[0m \u001b[0mTypeError\u001b[0m\u001b[1;33m(\u001b[0m\u001b[1;34m'Function is not a vector function!'\u001b[0m\u001b[1;33m)\u001b[0m\u001b[1;33m\u001b[0m\u001b[0m\n\u001b[0m\u001b[0;32m      7\u001b[0m \u001b[1;33m\u001b[0m\u001b[0m\n\u001b[0;32m      8\u001b[0m         \u001b[1;31m# check that every object in vector is a variable\u001b[0m\u001b[1;33m\u001b[0m\u001b[1;33m\u001b[0m\u001b[0m\n",
      "\u001b[1;31mTypeError\u001b[0m: Function is not a vector function!"
     ]
    }
   ],
   "source": [
    "fn(a,b)"
   ]
  },
  {
   "cell_type": "code",
   "execution_count": 80,
   "metadata": {},
   "outputs": [],
   "source": [
    "class vector_Variable(object):\n",
    "    def __init__(self, variable_vec):\n",
    "        \n",
    "        # check that it is not single variable\n",
    "        if isinstance(variable_vec, Variable):\n",
    "            raise TypeError('Function is not a vector function!')\n",
    "        \n",
    "        # check that every object in vector is a variable\n",
    "        # OR SHOULD WE ALLOW SUCH THAT NOT ALL OBJECT IS A VARIABLE?\n",
    "        if not all([isinstance(i, Variable) for i in variable_vec]):\n",
    "            raise TypeError('Every object in a vector function should be a Variable!')\n",
    "        \n",
    "        self.variables = variable_vec\n",
    "        self.val = np.array([i.val for i in variable_vec])\n",
    "        self.der = pd.concat([pd.DataFrame(i.jacobian(), index=[i.name]) for i in variable_vec], sort=True).fillna(0)\n",
    "\n",
    "    def jacobian(self):\n",
    "        return self.der\n",
    "    \n",
    "    def partial_der(self, dep_var):\n",
    "        # note: we should raise KeyError for variable class as well, rather than try and except?\n",
    "        # raise error if input is not a variable\n",
    "        if dep_var not in self.der.columns.values:\n",
    "            raise KeyError('Input is not a Variable')\n",
    "            \n",
    "        return self.der[dep_var].values\n",
    "    \n",
    "    def __add__(self, other):\n",
    "        # check that vector functions are of the same length\n",
    "        if len(self.val) != len(other.val):\n",
    "            raise (ValueError('operands could not be broadcast together with shapes {} {}'\n",
    "                              .format(self.val.shape, other.val.shape)))\n",
    "        \n",
    "        # if both are vector variables\n",
    "        try:\n",
    "            return vector_Variable(self.variables + other.variables)\n",
    "        # when other is not a vector of variables\n",
    "        except AttributeError:\n",
    "            return vector_Variable(self.variables + other)\n",
    "    __radd__ = __add__\n",
    "    \n",
    "    def __sub__(self, other):\n",
    "        other = -other\n",
    "        return self+other\n",
    "    __rsub__ = __sub__\n",
    "    \n",
    "    def __mul__(self, other):\n",
    "        # check that vector functions are of the same length\n",
    "        if len(self.val) != len(other.val):\n",
    "            raise (ValueError('operands could not be broadcast together with shapes {} {}'\n",
    "                              .format(self.val.shape, other.val.shape)))\n",
    "        \n",
    "        # if both are vector variables\n",
    "        try:\n",
    "            return vector_Variable(self.variables*other.variables)\n",
    "        # when other is not a vector of variables\n",
    "        except AttributeError:\n",
    "            return vector_Variable(self.variables*other)\n",
    "    __rmul__ = __mul__"
   ]
  },
  {
   "cell_type": "code",
   "execution_count": 71,
   "metadata": {},
   "outputs": [],
   "source": [
    "def vectorize_variable(func):\n",
    "    def func_wrapper(*args):\n",
    "        variable_vec = func(*args)\n",
    "        \n",
    "        return vector_Variable(variable_vec)\n",
    "    return func_wrapper"
   ]
  },
  {
   "cell_type": "code",
   "execution_count": 72,
   "metadata": {},
   "outputs": [],
   "source": [
    "@vectorize_variable\n",
    "def vec_fn1(x, y, z):\n",
    "    f1 = x*y + anp.sin(y) + anp.cos(z)\n",
    "    f2 = x+y+ anp.sin(x*y)\n",
    "    return np.array([f1, f2])"
   ]
  },
  {
   "cell_type": "code",
   "execution_count": 73,
   "metadata": {},
   "outputs": [],
   "source": [
    "@vectorize_variable\n",
    "def vec_fn2(x, y, z):\n",
    "    f1 = x**y + anp.sin(y) + anp.tan(z)\n",
    "    f2 = x+y+ anp.sin(x*y)\n",
    "    return np.array([f1, f2])"
   ]
  },
  {
   "cell_type": "code",
   "execution_count": 74,
   "metadata": {},
   "outputs": [
    {
     "data": {
      "text/plain": [
       "array([Variable name: f(f(f(f(a,b),b),c)), Value: 4.9692933646391335, Derivatives: {'c': 17.323197612125753, 'b': 11.508417515617406, 'a': 3.0},\n",
       "       Variable name: f(f(f(a,b),f(a,b))), Value: 20.705600040299338, Derivatives: {'b': -9.849887449006683, 'a': 0.050037516997772924}],\n",
       "      dtype=object)"
      ]
     },
     "execution_count": 74,
     "metadata": {},
     "output_type": "execute_result"
    }
   ],
   "source": [
    "vec_fn2(a,b,c).variables * [3, 5]"
   ]
  },
  {
   "cell_type": "code",
   "execution_count": 75,
   "metadata": {},
   "outputs": [
    {
     "data": {
      "text/plain": [
       "array([Variable name: f(f(f(f(a,b),b),c),f(f(f(a,b),b),c)), Value: 5.673813520563453, Derivatives: {'a': 5.081755269807132, 'c': 18.27300047876636, 'b': 19.00428706062617},\n",
       "       Variable name: f(f(f(a,b),f(a,b)),f(f(a,b),f(a,b))), Value: 17.148874921153755, Derivatives: {'b': -16.315826396887736, 'a': 0.08288454511724526}],\n",
       "      dtype=object)"
      ]
     },
     "execution_count": 75,
     "metadata": {},
     "output_type": "execute_result"
    }
   ],
   "source": [
    "vec_fn2(a,b,c).variables * vec_fn1(a,b,c).variables"
   ]
  },
  {
   "cell_type": "code",
   "execution_count": 79,
   "metadata": {},
   "outputs": [
    {
     "data": {
      "text/plain": [
       "array([Variable name: f(f(f(f(a,b),b),c),f(f(f(a,b),b),c)), Value: 5.673813520563453, Derivatives: {'a': 5.081755269807132, 'c': 18.27300047876636, 'b': 19.00428706062617},\n",
       "       Variable name: f(f(f(a,b),f(a,b)),f(f(a,b),f(a,b))), Value: 17.148874921153755, Derivatives: {'b': -16.315826396887736, 'a': 0.08288454511724526}],\n",
       "      dtype=object)"
      ]
     },
     "execution_count": 79,
     "metadata": {},
     "output_type": "execute_result"
    }
   ],
   "source": [
    "tst = vec_fn2(a,b,c) * vec_fn1(a,b,c)\n",
    "tst.variables"
   ]
  },
  {
   "cell_type": "code",
   "execution_count": 49,
   "metadata": {},
   "outputs": [
    {
     "ename": "ValueError",
     "evalue": "operands could not be broadcast together with shapes (3,) (2,) ",
     "output_type": "error",
     "traceback": [
      "\u001b[1;31m---------------------------------------------------------------------------\u001b[0m",
      "\u001b[1;31mValueError\u001b[0m                                Traceback (most recent call last)",
      "\u001b[1;32m<ipython-input-49-0cec89bd69fc>\u001b[0m in \u001b[0;36m<module>\u001b[1;34m()\u001b[0m\n\u001b[1;32m----> 1\u001b[1;33m \u001b[0mnp\u001b[0m\u001b[1;33m.\u001b[0m\u001b[0marray\u001b[0m\u001b[1;33m(\u001b[0m\u001b[1;33m[\u001b[0m\u001b[1;36m3\u001b[0m\u001b[1;33m,\u001b[0m \u001b[1;36m4\u001b[0m\u001b[1;33m,\u001b[0m \u001b[1;36m5\u001b[0m\u001b[1;33m]\u001b[0m\u001b[1;33m)\u001b[0m \u001b[1;33m+\u001b[0m \u001b[0mnp\u001b[0m\u001b[1;33m.\u001b[0m\u001b[0marray\u001b[0m\u001b[1;33m(\u001b[0m\u001b[1;33m[\u001b[0m\u001b[1;36m3\u001b[0m\u001b[1;33m,\u001b[0m \u001b[1;36m4\u001b[0m\u001b[1;33m]\u001b[0m\u001b[1;33m)\u001b[0m\u001b[1;33m\u001b[0m\u001b[0m\n\u001b[0m",
      "\u001b[1;31mValueError\u001b[0m: operands could not be broadcast together with shapes (3,) (2,) "
     ]
    }
   ],
   "source": [
    "np.array([3, 4, 5]) + np.array([3, 4])"
   ]
  }
 ],
 "metadata": {
  "kernelspec": {
   "display_name": "Python 3",
   "language": "python",
   "name": "python3"
  },
  "language_info": {
   "codemirror_mode": {
    "name": "ipython",
    "version": 3
   },
   "file_extension": ".py",
   "mimetype": "text/x-python",
   "name": "python",
   "nbconvert_exporter": "python",
   "pygments_lexer": "ipython3",
   "version": "3.7.0"
  }
 },
 "nbformat": 4,
 "nbformat_minor": 2
}
