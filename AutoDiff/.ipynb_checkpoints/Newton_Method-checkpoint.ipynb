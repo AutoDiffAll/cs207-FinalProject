{
 "cells": [
  {
   "cell_type": "code",
   "execution_count": 4,
   "metadata": {},
   "outputs": [],
   "source": [
    "try:\n",
    "    from variables import Variable\n",
    "except:\n",
    "    from AutoDiff.variables import Variable\n",
    "try:\n",
    "    from vectorize_func import vectorize_variable\n",
    "except:\n",
    "    from AutoDiff.vectorize_func import vectorize_variable\n",
    "try:\n",
    "    import AD_numpy as anp\n",
    "except:\n",
    "    import AutoDiff.AD_numpy as anp\n",
    "import numpy as np"
   ]
  },
  {
   "cell_type": "code",
   "execution_count": 2,
   "metadata": {},
   "outputs": [],
   "source": [
    "#@vectorize_variable\n",
    "#def vec_fn(x, y):\n",
    "#    f1 = anp.cos(x) + anp.sin(y)\n",
    "#    f2 = x**2 + y**2\n",
    "#    return np.array([f1,f2])"
   ]
  },
  {
   "cell_type": "code",
   "execution_count": 3,
   "metadata": {},
   "outputs": [],
   "source": [
    "def newton_method_scalar(function, list_variables, threshold, max_iter, verbose=True):\n",
    "    nums_iteration = 1\n",
    "    key_val_dict = {}\n",
    "    while True:\n",
    "        # This line is the only difference between two newton_method_scalar functions\n",
    "        function = x**2 + y**2\n",
    "        value_f = function.val\n",
    "        for var in list_variables:\n",
    "            var.val = var.val - value_f/function.der[var.name]\n",
    "            key_val_dict[var] = var.val\n",
    "        if verbose is True:\n",
    "            print(f'Iteration at {nums_iteration}, at {list(key_val_dict.values())} ')\n",
    "        if abs(value_f) <= threshold:\n",
    "            break\n",
    "        if nums_iteration == 10:\n",
    "            break\n",
    "        nums_iteration +=1"
   ]
  },
  {
   "cell_type": "code",
   "execution_count": 13,
   "metadata": {},
   "outputs": [
    {
     "name": "stdout",
     "output_type": "stream",
     "text": [
      "Iteration at 1, at [0.8333333333333335, -1.25] \n",
      "Variable name: f(f(x),f(y)), Value: 13, Derivatives: {'y': 4, 'x': 6}\n",
      "13\n",
      "Iteration at 2, at [-0.520833333333333, -0.3472222222222221] \n",
      "Variable name: f(f(x),f(y)), Value: 2.2569444444444446, Derivatives: {'y': -2.5, 'x': 1.666666666666667}\n",
      "2.2569444444444446\n",
      "Iteration at 3, at [-0.14467592592592576, 0.21701388888888873] \n",
      "Variable name: f(f(x),f(y)), Value: 0.391830632716049, Derivatives: {'y': -0.6944444444444442, 'x': -1.041666666666666}\n",
      "0.391830632716049\n",
      "Iteration at 4, at [0.09042245370370375, 0.06028163580246912] \n",
      "Variable name: f(f(x),f(y)), Value: 0.0680261515132029, Derivatives: {'y': 0.43402777777777746, 'x': -0.2893518518518515}\n",
      "0.0680261515132029\n",
      "Iteration at 5, at [0.025117348251028848, -0.0376760223765433] \n",
      "Variable name: f(f(x),f(y)), Value: 0.011810095748819974, Derivatives: {'y': 0.12056327160493824, 'x': 0.1808449074074075}\n",
      "0.011810095748819974\n",
      "Iteration at 6, at [-0.01569834265689307, -0.010465561771262042] \n",
      "Variable name: f(f(x),f(y)), Value: 0.0020503638452812533, Derivatives: {'y': -0.0753520447530866, 'x': 0.050234696502057696}\n",
      "0.0020503638452812533\n",
      "Iteration at 7, at [-0.004360650738025858, 0.006540976107038788] \n",
      "Variable name: f(f(x),f(y)), Value: 0.0003559659453613301, Derivatives: {'y': -0.020931123542524084, 'x': -0.03139668531378614}\n",
      "0.0003559659453613301\n",
      "Iteration at 8, at [0.002725406711266163, 0.0018169378075107746] \n",
      "Variable name: f(f(x),f(y)), Value: 6.179964329189776e-05, Derivatives: {'y': 0.013081952214077576, 'x': -0.008721301476051716}\n",
      "6.179964329189776e-05\n",
      "Iteration at 9, at [0.0007570574197961568, -0.0011355861296942354] \n",
      "Variable name: f(f(x),f(y)), Value: 1.0729104738176702e-05, Derivatives: {'y': 0.0036338756150215493, 'x': 0.005450813422532326}\n",
      "1.0729104738176702e-05\n",
      "Iteration at 10, at [-0.0004731608873725984, -0.0003154405915817322] \n",
      "Variable name: f(f(x),f(y)), Value: 1.8626917948223473e-06, Derivatives: {'y': -0.002271172259388471, 'x': 0.0015141148395923136}\n",
      "1.8626917948223473e-06\n"
     ]
    }
   ],
   "source": [
    "x = Variable('x', 3)\n",
    "y = Variable('y', 2)\n",
    "f_x_y = x**2 + y**2\n",
    "list_var = [x, y]\n",
    "newton_method_scalar(f_x_y, list_var, 1e-6, 50, verbose=True)"
   ]
  },
  {
   "cell_type": "code",
   "execution_count": 131,
   "metadata": {},
   "outputs": [],
   "source": [
    "def newton_method_scalar(function, list_variables, threshold, max_iter, verbose=True):\n",
    "    \n",
    "    nums_iteration = 1\n",
    "    key_val_dict = {}\n",
    "    while True:\n",
    "        value_f = function.val\n",
    "        for var in list_variables:\n",
    "            var.val = var.val - value_f/function.der[var.name]\n",
    "            key_val_dict[var] = var.val\n",
    "        if verbose is True:\n",
    "            print(f'Iteration at {nums_iteration}, at {list(key_val_dict.values())} ')\n",
    "        if abs(value_f) <= threshold:\n",
    "            break\n",
    "        if nums_iteration >= max_iter:\n",
    "            break\n",
    "        nums_iteration +=1"
   ]
  },
  {
   "cell_type": "code",
   "execution_count": 177,
   "metadata": {},
   "outputs": [],
   "source": [
    "def newton_method_scalar(fn, initial_val, threshold, max_iter, verbose=True):\n",
    "    \n",
    "    # create initial variables\n",
    "    # right now we only test with the 26 alphabets\n",
    "    from string import ascii_lowercase\n",
    "    import pandas as pd\n",
    "    \n",
    "    name_ls = iter(ascii_lowercase)\n",
    "    \n",
    "    # create initial variables\n",
    "    var_names = []\n",
    "    var = []\n",
    "    for i in initial_val:\n",
    "        name = next(name_ls)\n",
    "        var.append(Variable(name, i))\n",
    "        var_names.append(name)\n",
    "    \n",
    "    val = np.array(initial_val)\n",
    "    nums_iteration = 1\n",
    "    while True:\n",
    "        val_new = val - fn(*val) / pd.DataFrame(fn(*var).der, index=[0]).values[0]\n",
    "        \n",
    "        # recreate new variables with new values\n",
    "        var = []\n",
    "        for i, v in enumerate(val_new):\n",
    "            var.append(Variable(var_names[i], v))\n",
    "            \n",
    "        # print iteration output\n",
    "        if verbose is True:\n",
    "            print(f'Iteration at {nums_iteration}, at {val} ')\n",
    "            \n",
    "        # threshold stopping condition \n",
    "        if np.sqrt(np.sum((val_new - val)**2)) < threshold:\n",
    "            break\n",
    "        \n",
    "        # iteration stopping condition\n",
    "        if nums_iteration >= max_iter:\n",
    "            break\n",
    "        nums_iteration +=1\n",
    "        val = val_new"
   ]
  },
  {
   "cell_type": "code",
   "execution_count": 180,
   "metadata": {},
   "outputs": [],
   "source": [
    "f = lambda x, y, z: x**2 + y**2 + z**2"
   ]
  },
  {
   "cell_type": "code",
   "execution_count": 181,
   "metadata": {},
   "outputs": [
    {
     "name": "stdout",
     "output_type": "stream",
     "text": [
      "Iteration at 1, at [3 2 1] \n",
      "Iteration at 2, at [ 0.66666667 -1.5        -6.        ] \n",
      "Iteration at 3, at [-28.35416667  11.39814815  -2.77546296] \n",
      "Iteration at 4, at [-11.7502623  -29.90591857 166.85024558] \n",
      "Iteration at 5, at [1216.79410254  452.79848336   80.33123274] \n",
      "Iteration at 6, at [   521.49673961  -1415.65682696 -10451.48437528] \n",
      "Iteration at 7, at [-106391.50988029   37968.73585358   -5116.85607063] \n",
      "Iteration at 8, at [ -46297.61466552 -130419.28399367 1244377.00465746] \n",
      "Iteration at 9, at [16883589.59233951  5879530.85711213   614492.82059825] \n",
      "Iteration at 10, at [ 7.40687019e+06 -2.13337018e+07 -2.59764531e+08] \n",
      "Iteration at 11, at [-4.58208900e+09  1.57209816e+09 -1.28900629e+08] \n",
      "Iteration at 12, at [-2.01954083e+09 -5.89678902e+09  9.09631589e+10] \n",
      "Iteration at 13, at [2.05615795e+12 6.98990812e+11 4.52680278e+10] \n",
      "Iteration at 14, at [ 9.08769719e+11 -2.67617720e+12 -5.20712377e+13] \n",
      "Iteration at 15, at [-1.49529072e+15  5.05399593e+14 -2.59589183e+13] \n",
      "Iteration at 16, at [-6.62008967e+14 -1.95997335e+15  4.79729009e+16] \n",
      "Iteration at 17, at [1.74076378e+18 5.86231436e+17 2.39418445e+16] \n",
      "Iteration at 18, at [ 7.71505605e+17 -2.29189726e+18 -7.04488874e+19] \n",
      "Iteration at 19, at [-3.21948621e+21  1.08172130e+21 -3.51829383e+19] \n",
      "Iteration at 20, at [-1.42782606e+21 -4.25072906e+21  1.63914316e+23] \n",
      "Iteration at 21, at [9.41428855e+24 3.15850207e+24 8.18958231e+22] \n",
      "Iteration at 22, at [ 4.17694795e+24 -1.24520103e+25 -6.01973663e+26] \n",
      "Iteration at 23, at [-4.33941122e+28  1.45452291e+28 -3.00843553e+26] \n",
      "Iteration at 24, at [-1.92583128e+28 -5.74613083e+28  3.48108200e+30] \n",
      "Iteration at 25, at [3.14691711e+32 1.05418771e+32 1.74001348e+30] \n",
      "Iteration at 26, at [ 1.39683895e+32 -4.17007249e+32 -3.16494567e+34] \n",
      "Iteration at 27, at [-3.58610593e+36  1.20085889e+36 -1.58216729e+34] \n",
      "Iteration at 28, at [-1.59195567e+36 -4.75424053e+36  4.51973935e+38] \n",
      "Iteration at 29, at [6.41665187e+40 2.14819138e+40 2.25959160e+38] \n",
      "Iteration at 30, at [ 2.84869627e+40 -8.50929904e+40 -1.01318391e+43] \n",
      "Iteration at 31, at [-1.80188730e+45  6.03150349e+44 -5.06552216e+42] \n",
      "Iteration at 32, at [-7.99989497e+44 -2.38997884e+45  3.56386015e+47] \n",
      "Iteration at 33, at [7.93860819e+49 2.65705113e+49 1.78184096e+47] \n",
      "Iteration at 34, at [ 3.52462677e+49 -1.05308280e+50 -1.96653643e+52] \n",
      "Iteration at 35, at [-5.48620362e+54  1.83611729e+54 -9.83236862e+51] \n",
      "Iteration at 36, at [-2.43583802e+54 -7.27818432e+54  1.70201411e+57] \n",
      "Iteration at 37, at [5.94641151e+59 1.99006019e+59 8.50989748e+56] \n",
      "Iteration at 38, at [ 2.64019719e+59 -7.88909371e+59 -2.31025562e+62] \n",
      "Iteration at 39, at [-1.01078365e+65  3.38266091e+64 -1.15511283e+62] \n",
      "Iteration at 40, at [-4.48789564e+64 -1.34104630e+65  4.91772827e+67] \n",
      "Iteration at 41, at [2.69438206e+70 9.01679965e+69 2.45884380e+67] \n",
      "Iteration at 42, at [ 1.19631547e+70 -3.57481270e+70 -1.64156735e+73] \n",
      "Iteration at 43, at [-1.12627262e+76  3.76905343e+75 -8.20779347e+72] \n",
      "Iteration at 44, at [-5.00070622e+75 -1.49431822e+76  8.59272944e+78] \n",
      "Iteration at 45, at [7.38247703e+81 2.47051799e+81 4.29635027e+78] \n",
      "Iteration at 46, at [ 3.27786252e+81 -9.79501597e+81 -7.05301057e+84] \n",
      "Iteration at 47, at [-7.58803077e+87  2.53929514e+87 -3.52649772e+84] \n",
      "Iteration at 48, at [-3.36913359e+87 -1.00677946e+88  9.07787605e+90] \n",
      "Iteration at 49, at [1.22298391e+94 4.09264129e+93 4.53893181e+90] \n",
      "Iteration at 50, at [ 5.43012995e+93 -1.62265958e+94 -1.83213434e+97] \n"
     ]
    }
   ],
   "source": [
    "newton_method_scalar(f, [3, 2, 1], 1e-6, 50, verbose=True)"
   ]
  },
  {
   "cell_type": "code",
   "execution_count": null,
   "metadata": {},
   "outputs": [],
   "source": []
  }
 ],
 "metadata": {
  "kernelspec": {
   "display_name": "Python 3",
   "language": "python",
   "name": "python3"
  },
  "language_info": {
   "codemirror_mode": {
    "name": "ipython",
    "version": 3
   },
   "file_extension": ".py",
   "mimetype": "text/x-python",
   "name": "python",
   "nbconvert_exporter": "python",
   "pygments_lexer": "ipython3",
   "version": "3.7.0"
  }
 },
 "nbformat": 4,
 "nbformat_minor": 2
}
