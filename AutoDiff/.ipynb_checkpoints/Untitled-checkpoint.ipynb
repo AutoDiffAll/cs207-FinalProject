{
 "cells": [
  {
   "cell_type": "code",
   "execution_count": 1,
   "metadata": {},
   "outputs": [],
   "source": [
    "try:\n",
    "    from variables import Variable\n",
    "except:\n",
    "    from AutoDiff.variables import Variable\n",
    "try:\n",
    "    from vectorize_func import vectorize_variable\n",
    "except:\n",
    "    from AutoDiff.vectorize_func import vectorize_variable\n",
    "try:\n",
    "    import AD_numpy as anp\n",
    "except:\n",
    "    import AutoDiff.AD_numpy as anp\n",
    "    \n",
    "try:\n",
    "    import Optimizer as op\n",
    "except:\n",
    "    import AutoDiff.Optimizer as op\n",
    "import numpy as np\n",
    "from numpy.linalg import pinv\n",
    "from numpy.linalg import norm"
   ]
  },
  {
   "cell_type": "code",
   "execution_count": 2,
   "metadata": {},
   "outputs": [
    {
     "name": "stdout",
     "output_type": "stream",
     "text": [
      "[array([2.88, 2.08, 1.1 ]), array([2.771712, 2.159872, 1.2078  ]), array([2.67349849, 2.23936082, 1.32356038]), array([2.58401658, 2.31821495, 1.44735139]), array([2.50215408, 2.39618973, 1.57913703]), array([2.42698166, 2.47305041, 1.71876   ]), array([2.35771649, 2.54857487, 1.86592848]), array([2.29369428, 2.62255618, 2.02020612]), array([2.2343475 , 2.69480466, 2.1810062 ]), array([2.17918827, 2.76514959, 2.34759118]), array([2.12779481, 2.83344051, 2.51907844]), array([2.07980049, 2.89954805, 2.69445272]), array([2.0348851 , 2.96336432, 2.87258554]), array([1.99276765, 3.0248029 , 3.05226085]), array([1.95320055, 3.08379848, 3.23220623]), array([1.91596471, 3.1403061 , 3.41112783]), array([1.88086559, 3.19430014, 3.58774731]), array([1.84772979, 3.24577308, 3.76083837]), array([1.81640228, 3.29473407, 3.92926087]), array([1.78674398, 3.34120734, 4.09199036]), array([1.75862978, 3.3852306 , 4.2481415 ]), array([1.7319468 , 3.42685332, 4.39698436]), array([1.70659294, 3.46613512, 4.53795305]), array([1.68247561, 3.50314407, 4.67064706]), array([1.65951064, 3.53795523, 4.79482583]), array([1.63762134, 3.5706491 , 4.91039783]), array([1.6167377 , 3.60131033, 5.01740543]), array([1.59679563, 3.63002644, 5.11600694]), array([1.57773642, 3.65688671, 5.20645723]), array([1.55950611, 3.68198124, 5.28908816]), array([1.54205504, 3.70540002, 5.36428967]), array([1.52533747, 3.72723224, 5.43249236]), array([1.50931113, 3.74756561, 5.49415198]), array([1.49393695, 3.7664859 , 5.54973609]), array([1.47917874, 3.78407645, 5.59971301]), array([1.46500292, 3.80041788, 5.64454286]), array([1.4513783 , 3.81558779, 5.68467072]), array([1.43827589, 3.82966061, 5.72052158]), array([1.42566866, 3.84270745, 5.75249683]), array([1.41353141, 3.85479603, 5.78097205]), array([1.40184062, 3.86599067, 5.80629594]), array([1.39057429, 3.87635224, 5.82879   ]), array([1.37971183, 3.88593829, 5.84874894]), array([1.36923398, 3.89480302, 5.86644153]), array([1.35912262, 3.90299745, 5.88211179]), array([1.34936079, 3.91056947, 5.89598042]), array([1.33993251, 3.91756395, 5.90824637]), array([1.33082278, 3.92402292, 5.91908843]), array([1.32201745, 3.92998564, 5.92866689]), array([1.3135032 , 3.93548875, 5.93712509]), array([1.30526745, 3.94056641, 5.94459102])]\n"
     ]
    },
    {
     "data": {
      "text/plain": [
       "<Optimizer.Result at 0x1630e106860>"
      ]
     },
     "execution_count": 2,
     "metadata": {},
     "output_type": "execute_result"
    }
   ],
   "source": [
    "f = lambda x, y, z: (x-1)**2 + (y-4)**2 + (z-6)**2\n",
    "#op.minimize(f, [3, 2, 1], method=\"Newton Method\")\n",
    "op.min_gradientdescent(f, [3, 2, 5], 1e-6, 50)"
   ]
  },
  {
   "cell_type": "code",
   "execution_count": null,
   "metadata": {},
   "outputs": [],
   "source": []
  },
  {
   "cell_type": "code",
   "execution_count": null,
   "metadata": {},
   "outputs": [],
   "source": []
  },
  {
   "cell_type": "code",
   "execution_count": null,
   "metadata": {},
   "outputs": [],
   "source": []
  }
 ],
 "metadata": {
  "kernelspec": {
   "display_name": "Python 3",
   "language": "python",
   "name": "python3"
  },
  "language_info": {
   "codemirror_mode": {
    "name": "ipython",
    "version": 3
   },
   "file_extension": ".py",
   "mimetype": "text/x-python",
   "name": "python",
   "nbconvert_exporter": "python",
   "pygments_lexer": "ipython3",
   "version": "3.6.5"
  }
 },
 "nbformat": 4,
 "nbformat_minor": 2
}
