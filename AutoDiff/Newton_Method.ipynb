{
 "cells": [
  {
   "cell_type": "code",
   "execution_count": 146,
   "metadata": {},
   "outputs": [],
   "source": [
    "try:\n",
    "    from variables import Variable\n",
    "except:\n",
    "    from AutoDiff.variables import Variable\n",
    "try:\n",
    "    from vectorize_func import vectorize_variable\n",
    "except:\n",
    "    from AutoDiff.vectorize_func import vectorize_variable\n",
    "try:\n",
    "    import AD_numpy as anp\n",
    "except:\n",
    "    import AutoDiff.AD_numpy as anp\n",
    "import numpy as np\n",
    "from numpy.linalg import pinv\n",
    "from numpy.linalg import norm"
   ]
  },
  {
   "cell_type": "markdown",
   "metadata": {},
   "source": [
    "### Newton Method for Scalar Function"
   ]
  },
  {
   "cell_type": "code",
   "execution_count": 143,
   "metadata": {},
   "outputs": [],
   "source": [
    "def newton_method_scalar(fn, initial_val, threshold, max_iter, verbose=True):\n",
    "    \n",
    "    # create initial variables\n",
    "    # right now we only test with the 26 alphabets\n",
    "    from string import ascii_lowercase\n",
    "    import pandas as pd\n",
    "    \n",
    "    name_ls = iter(ascii_lowercase)\n",
    "    \n",
    "    # create initial variables\n",
    "    var_names = []\n",
    "    var = []\n",
    "    for i in initial_val:\n",
    "        name = next(name_ls)\n",
    "        var.append(Variable(name, i))\n",
    "        var_names.append(name)\n",
    "    \n",
    "    val = np.array(initial_val)\n",
    "    nums_iteration = 1\n",
    "    while True:\n",
    "        val_new = val - fn(*val) / list(fn(*var).der.values())\n",
    "        \n",
    "        # recreate new variables with new values\n",
    "        var = []\n",
    "        for i, v in enumerate(val_new):\n",
    "            var.append(Variable(var_names[i], v))\n",
    "            \n",
    "        # print iteration output\n",
    "        if verbose is True:\n",
    "            print(f'Iteration at {nums_iteration}, at {val} ')\n",
    "        \n",
    "        # threshold stopping condition \n",
    "        if np.sqrt(np.sum((val_new - val)**2)) < threshold:\n",
    "            print(f'After {nums_iteration} iterations, found a root: {val}')\n",
    "            break\n",
    "        \n",
    "        # iteration stopping condition\n",
    "        if nums_iteration >= max_iter:\n",
    "            break\n",
    "        nums_iteration +=1\n",
    "        val = val_new"
   ]
  },
  {
   "cell_type": "code",
   "execution_count": 145,
   "metadata": {
    "scrolled": true
   },
   "outputs": [
    {
     "name": "stdout",
     "output_type": "stream",
     "text": [
      "Iteration at 1, at [3 2 1] \n",
      "Iteration at 2, at [4.5 3.5 2.5] \n",
      "Iteration at 3, at [3.75 2.75 1.75] \n",
      "Iteration at 4, at [4.125 3.125 2.125] \n",
      "Iteration at 5, at [3.9375 2.9375 1.9375] \n",
      "Iteration at 6, at [4.03125 3.03125 2.03125] \n",
      "Iteration at 7, at [3.984375 2.984375 1.984375] \n",
      "Iteration at 8, at [4.0078125 3.0078125 2.0078125] \n",
      "Iteration at 9, at [3.99609375 2.99609375 1.99609375] \n",
      "Iteration at 10, at [4.00195312 3.00195312 2.00195312] \n",
      "Iteration at 11, at [3.99902344 2.99902344 1.99902344] \n",
      "Iteration at 12, at [4.00048828 3.00048828 2.00048828] \n",
      "Iteration at 13, at [3.99975586 2.99975586 1.99975586] \n",
      "Iteration at 14, at [4.00012207 3.00012207 2.00012207] \n",
      "Iteration at 15, at [3.99993896 2.99993896 1.99993896] \n",
      "Iteration at 16, at [4.00003052 3.00003052 2.00003052] \n",
      "Iteration at 17, at [3.99998474 2.99998474 1.99998474] \n",
      "Iteration at 18, at [4.00000763 3.00000763 2.00000763] \n",
      "Iteration at 19, at [3.99999619 2.99999619 1.99999619] \n",
      "Iteration at 20, at [4.00000191 3.00000191 2.00000191] \n",
      "Iteration at 21, at [3.99999905 2.99999905 1.99999905] \n",
      "Iteration at 22, at [4.00000048 3.00000048 2.00000048] \n",
      "Iteration at 23, at [3.99999976 2.99999976 1.99999976] \n",
      "After 23 iterations, found a root: [3.99999976 2.99999976 1.99999976]\n"
     ]
    }
   ],
   "source": [
    "# an example\n",
    "f = lambda x, y, z: (x-4)**2 + (y-3)**2 + (z-2)**2\n",
    "newton_method_scalar(f, [3, 2, 1], 1e-6, 50, verbose=True)"
   ]
  },
  {
   "cell_type": "markdown",
   "metadata": {},
   "source": [
    "### Newton Method for Vector Function"
   ]
  },
  {
   "cell_type": "code",
   "execution_count": null,
   "metadata": {},
   "outputs": [],
   "source": [
    "def newton_method_vector(list_functions, initial_val, threshold, max_iter, verbose=True):\n",
    "    \n",
    "    # create initial variables\n",
    "    # right now we only test with the 26 alphabets\n",
    "    from string import ascii_lowercase\n",
    "    import pandas as pd\n",
    "    \n",
    "    name_ls = iter(ascii_lowercase)\n",
    "    \n",
    "    # create initial variables\n",
    "    var_names = []\n",
    "    var = []\n",
    "    for i in initial_val:\n",
    "        name = next(name_ls)\n",
    "        var.append(Variable(name, i))\n",
    "        var_names.append(name)\n",
    "    \n",
    "    val = np.array(initial_val)\n",
    "    nums_iteration = 1\n",
    "    while True:\n",
    "        val_new = val - fn(*val) / list(fn(*var).der.values())\n",
    "        \n",
    "        # recreate new variables with new values\n",
    "        var = []\n",
    "        for i, v in enumerate(val_new):\n",
    "            var.append(Variable(var_names[i], v))\n",
    "            \n",
    "        # print iteration output\n",
    "        if verbose is True:\n",
    "            print(f'Iteration at {nums_iteration}, at {val} ')\n",
    "        \n",
    "        # threshold stopping condition \n",
    "        if np.sqrt(np.sum((val_new - val)**2)) < threshold:\n",
    "            print(f'After {nums_iteration} iterations, found a root: {val}')\n",
    "            break\n",
    "        \n",
    "        # iteration stopping condition\n",
    "        if nums_iteration >= max_iter:\n",
    "            break\n",
    "        nums_iteration +=1\n",
    "        val = val_new"
   ]
  },
  {
   "cell_type": "code",
   "execution_count": null,
   "metadata": {},
   "outputs": [],
   "source": [
    "# an example\n",
    "f1 = lambda x, y: np.cos(x) + np.sin(x)\n",
    "f2 = lambda x, y: x**2 + y**2\n",
    "newton_method_scalar([f1, f2], [3, 2, 1], 1e-6, 50, verbose=True)"
   ]
  },
  {
   "cell_type": "code",
   "execution_count": null,
   "metadata": {},
   "outputs": [],
   "source": [
    "###Place holder"
   ]
  },
  {
   "cell_type": "code",
   "execution_count": null,
   "metadata": {},
   "outputs": [],
   "source": []
  }
 ],
 "metadata": {
  "kernelspec": {
   "display_name": "Python 3",
   "language": "python",
   "name": "python3"
  },
  "language_info": {
   "codemirror_mode": {
    "name": "ipython",
    "version": 3
   },
   "file_extension": ".py",
   "mimetype": "text/x-python",
   "name": "python",
   "nbconvert_exporter": "python",
   "pygments_lexer": "ipython3",
   "version": "3.6.5"
  }
 },
 "nbformat": 4,
 "nbformat_minor": 2
}
