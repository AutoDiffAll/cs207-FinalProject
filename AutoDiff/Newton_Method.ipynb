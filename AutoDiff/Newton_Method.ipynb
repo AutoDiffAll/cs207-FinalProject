{
 "cells": [
  {
   "cell_type": "code",
   "execution_count": 1,
   "metadata": {},
   "outputs": [],
   "source": [
    "try:\n",
    "    from variables import Variable\n",
    "except:\n",
    "    from AutoDiff.variables import Variable\n",
    "try:\n",
    "    from vectorize_func import vectorize_variable\n",
    "except:\n",
    "    from AutoDiff.vectorize_func import vectorize_variable\n",
    "try:\n",
    "    import AD_numpy as anp\n",
    "except:\n",
    "    import AutoDiff.AD_numpy as anp\n",
    "import numpy as np\n",
    "from numpy.linalg import pinv\n",
    "from numpy.linalg import norm"
   ]
  },
  {
   "cell_type": "markdown",
   "metadata": {},
   "source": [
    "### Newton Method for Scalar Function"
   ]
  },
  {
   "cell_type": "code",
   "execution_count": 2,
   "metadata": {},
   "outputs": [],
   "source": [
    "def newton_method_scalar(fn, initial_val, threshold, max_iter, verbose=True):\n",
    "    \n",
    "    # create initial variables\n",
    "    # right now we only test with the 26 alphabets\n",
    "    from string import ascii_lowercase\n",
    "    import pandas as pd\n",
    "    \n",
    "    name_ls = iter(ascii_lowercase)\n",
    "    \n",
    "    # create initial variables\n",
    "    var_names = []\n",
    "    var = []\n",
    "    for i in initial_val:\n",
    "        name = next(name_ls)\n",
    "        var.append(Variable(name, i))\n",
    "        var_names.append(name)\n",
    "    \n",
    "    val = np.array(initial_val)\n",
    "    nums_iteration = 1\n",
    "    while True:\n",
    "        val_new = val - fn(*val) / list(fn(*var).der.values())\n",
    "        # recreate new variables with new values\n",
    "        var = []\n",
    "        for i, v in enumerate(val_new):\n",
    "            var.append(Variable(var_names[i], v))\n",
    "            \n",
    "        # print iteration output\n",
    "        if verbose is True:\n",
    "            print(f'Iteration at {nums_iteration}, at {val_new} ')\n",
    "        \n",
    "        # threshold stopping condition \n",
    "        if np.sqrt(np.sum((val_new - val)**2)) < threshold:\n",
    "            print(f'After {nums_iteration} iterations, found a root: {val_new}')\n",
    "            break\n",
    "        \n",
    "        # iteration stopping condition\n",
    "        if nums_iteration >= max_iter:\n",
    "            break\n",
    "        nums_iteration +=1\n",
    "        val = val_new"
   ]
  },
  {
   "cell_type": "code",
   "execution_count": 3,
   "metadata": {
    "scrolled": true
   },
   "outputs": [
    {
     "name": "stdout",
     "output_type": "stream",
     "text": [
      "Iteration at 1, at [nan nan nan] \n",
      "Iteration at 2, at [nan nan nan] \n",
      "Iteration at 3, at [nan nan nan] \n",
      "Iteration at 4, at [nan nan nan] \n",
      "Iteration at 5, at [nan nan nan] \n",
      "Iteration at 6, at [nan nan nan] \n",
      "Iteration at 7, at [nan nan nan] \n",
      "Iteration at 8, at [nan nan nan] \n",
      "Iteration at 9, at [nan nan nan] \n",
      "Iteration at 10, at [nan nan nan] \n",
      "Iteration at 11, at [nan nan nan] \n",
      "Iteration at 12, at [nan nan nan] \n",
      "Iteration at 13, at [nan nan nan] \n",
      "Iteration at 14, at [nan nan nan] \n",
      "Iteration at 15, at [nan nan nan] \n",
      "Iteration at 16, at [nan nan nan] \n",
      "Iteration at 17, at [nan nan nan] \n",
      "Iteration at 18, at [nan nan nan] \n",
      "Iteration at 19, at [nan nan nan] \n",
      "Iteration at 20, at [nan nan nan] \n",
      "Iteration at 21, at [nan nan nan] \n",
      "Iteration at 22, at [nan nan nan] \n",
      "Iteration at 23, at [nan nan nan] \n",
      "Iteration at 24, at [nan nan nan] \n",
      "Iteration at 25, at [nan nan nan] \n",
      "Iteration at 26, at [nan nan nan] \n",
      "Iteration at 27, at [nan nan nan] \n",
      "Iteration at 28, at [nan nan nan] \n",
      "Iteration at 29, at [nan nan nan] \n",
      "Iteration at 30, at [nan nan nan] \n",
      "Iteration at 31, at [nan nan nan] \n",
      "Iteration at 32, at [nan nan nan] \n",
      "Iteration at 33, at [nan nan nan] \n",
      "Iteration at 34, at [nan nan nan] \n",
      "Iteration at 35, at [nan nan nan] \n",
      "Iteration at 36, at [nan nan nan] \n",
      "Iteration at 37, at [nan nan nan] \n",
      "Iteration at 38, at [nan nan nan] \n",
      "Iteration at 39, at [nan nan nan] \n",
      "Iteration at 40, at [nan nan nan] \n",
      "Iteration at 41, at [nan nan nan] \n",
      "Iteration at 42, at [nan nan nan] \n",
      "Iteration at 43, at [nan nan nan] \n",
      "Iteration at 44, at [nan nan nan] \n",
      "Iteration at 45, at [nan nan nan] \n",
      "Iteration at 46, at [nan nan nan] \n",
      "Iteration at 47, at [nan nan nan] \n",
      "Iteration at 48, at [nan nan nan] \n",
      "Iteration at 49, at [nan nan nan] \n",
      "Iteration at 50, at [nan nan nan] \n"
     ]
    },
    {
     "name": "stderr",
     "output_type": "stream",
     "text": [
      "D:\\OSS\\Academics\\DataScienceSM\\CS207\\cs207_FinalProject\\AutoDiff\\variables.py:131: RuntimeWarning: invalid value encountered in log\n",
      "  pow = binary_user_function(lambda x,y: x**y, lambda x,y: y*(x**(y-1)), lambda x,y: x**y*np.log(x))\n"
     ]
    }
   ],
   "source": [
    "# an example\n",
    "f = lambda x, y, z: (x-4)**2 + (y-3)**2 + (z-2)**2\n",
    "newton_method_scalar(f, [3, 2, 1], 1e-6, 50, verbose=True)"
   ]
  },
  {
   "cell_type": "markdown",
   "metadata": {},
   "source": [
    "### Newton Method for Vector Function"
   ]
  },
  {
   "cell_type": "code",
   "execution_count": 4,
   "metadata": {},
   "outputs": [],
   "source": [
    "def newton_method_vector(fn, initial_val, threshold, max_iter, verbose=True):\n",
    "    \n",
    "    # create initial variables\n",
    "    # right now we only test with the 26 alphabets\n",
    "    from string import ascii_lowercase\n",
    "    \n",
    "    name_ls = iter(ascii_lowercase)\n",
    "    \n",
    "    # create initial variables\n",
    "    var_names = []\n",
    "    var = []\n",
    "    for i in initial_val:\n",
    "        name = next(name_ls)\n",
    "        var.append(Variable(name, i))\n",
    "        var_names.append(name)\n",
    "\n",
    "    val = np.array(initial_val)\n",
    "    nums_iteration = 1\n",
    "    while True:  \n",
    "        val_vector = fn(*var).val\n",
    "        jacobian = fn(*var).jacobian().values\n",
    "        d_x = np.dot(pinv(jacobian), val_vector)\n",
    "        \n",
    "        # update Variables after each iteration\n",
    "        var = []\n",
    "        for i in range(len(initial_val)):\n",
    "            val[i] = val[i] - d_x[i]\n",
    "            var.append(Variable(var_names[i], val[i]))\n",
    "        \n",
    "        # print iteration output\n",
    "        if verbose is True:\n",
    "            print(f'Iteration at {nums_iteration}, at {val_vector}')\n",
    "        \n",
    "        # threshold stopping condition \n",
    "        if norm(fn(*var).val) < threshold:\n",
    "            print(f'After {nums_iteration} iterations, found a root: {val_vector}')\n",
    "            break\n",
    "        \n",
    "        # iteration stopping condition\n",
    "        if nums_iteration >= max_iter:\n",
    "            break\n",
    "        nums_iteration +=1\n",
    "    return val"
   ]
  },
  {
   "cell_type": "code",
   "execution_count": 5,
   "metadata": {},
   "outputs": [],
   "source": [
    "# A user can freely modify the number of functions and the number of inputs. \n",
    "# For example, if one wants to have 2 functions with 3 inputs, a code below is an example. \n",
    "\n",
    "@vectorize_variable\n",
    "def vec_fn(x, y, z):\n",
    "    f1 = anp.cos(x) + anp.sin(y)+ anp.cos(z) \n",
    "    f2 = x**2 - y**2 - z**2\n",
    "    return np.array([f1,f2])\n",
    "x = Variable('x', np.pi)\n",
    "y = Variable('y', np.pi)\n",
    "z = Variable('z', np.pi)\n",
    "f = vec_fn(x,y,z)"
   ]
  },
  {
   "cell_type": "code",
   "execution_count": 6,
   "metadata": {},
   "outputs": [
    {
     "name": "stdout",
     "output_type": "stream",
     "text": [
      "Iteration at 1, at [2.92699082 1.14159265 3.35619449]\n",
      "Iteration at 2, at [3.63230984 4.60654298 2.19681605]\n",
      "Iteration at 3, at [ 4.61038753  5.19725699 -0.34993808]\n",
      "Iteration at 4, at [ 4.83680235  4.83258928 -0.37357084]\n",
      "Iteration at 5, at [ 4.79250635  4.77803061 -0.40602077]\n",
      "Iteration at 6, at [ 4.79228603  4.77505616 -0.40721159]\n",
      "Iteration at 7, at [ 4.79229919  4.77496704 -0.40724011]\n",
      "Iteration at 8, at [ 4.79229956  4.77496498 -0.40724074]\n",
      "After 8 iterations, found a root: [ 4.79229956  4.77496498 -0.40724074]\n"
     ]
    },
    {
     "name": "stderr",
     "output_type": "stream",
     "text": [
      "C:\\Users\\EunSeuk\\cs207\\cs207_eunseuk_choi\\cs207-FinalProject\\AutoDiff\\variables.py:129: RuntimeWarning: invalid value encountered in log\n",
      "  pow = binary_user_function(lambda x,y: x**y, lambda x,y: y*(x**(y-1)), lambda x,y: x**y*np.log(x))\n"
     ]
    }
   ],
   "source": [
    "# Now, user can find a root.\n",
    "root = newton_method_vector(vec_fn, [np.pi, np.pi, np.pi], 1e-6, 50, verbose=True)"
   ]
  },
  {
   "cell_type": "code",
   "execution_count": 7,
   "metadata": {},
   "outputs": [
    {
     "data": {
      "text/plain": [
       "1.9199086764842832e-12"
      ]
     },
     "execution_count": 7,
     "metadata": {},
     "output_type": "execute_result"
    }
   ],
   "source": [
    "# check if answers are correct\n",
    "np.cos(root[0]) + np.sin(root[1]) + np.cos(root[2])"
   ]
  },
  {
   "cell_type": "code",
   "execution_count": 8,
   "metadata": {},
   "outputs": [
    {
     "data": {
      "text/plain": [
       "-5.135774941988913e-07"
      ]
     },
     "execution_count": 8,
     "metadata": {},
     "output_type": "execute_result"
    }
   ],
   "source": [
    "# check if answers are correct\n",
    "root[0]**2 - root[1]**2 - root[2]**2"
   ]
  }
 ],
 "metadata": {
  "kernelspec": {
   "display_name": "Python 3",
   "language": "python",
   "name": "python3"
  },
  "language_info": {
   "codemirror_mode": {
    "name": "ipython",
    "version": 3
   },
   "file_extension": ".py",
   "mimetype": "text/x-python",
   "name": "python",
   "nbconvert_exporter": "python",
   "pygments_lexer": "ipython3",
   "version": "3.7.0"
  }
 },
 "nbformat": 4,
 "nbformat_minor": 2
}
