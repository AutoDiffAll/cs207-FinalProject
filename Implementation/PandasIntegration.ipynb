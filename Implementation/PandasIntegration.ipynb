{
 "cells": [
  {
   "cell_type": "code",
   "execution_count": 1,
   "metadata": {},
   "outputs": [],
   "source": [
    "import Optimizer as opt\n",
    "import numpy as np\n",
    "import pandas as pd\n",
    "import matplotlib.pyplot as plt"
   ]
  },
  {
   "cell_type": "code",
   "execution_count": 2,
   "metadata": {},
   "outputs": [
    {
     "data": {
      "text/html": [
       "<div>\n",
       "<style scoped>\n",
       "    .dataframe tbody tr th:only-of-type {\n",
       "        vertical-align: middle;\n",
       "    }\n",
       "\n",
       "    .dataframe tbody tr th {\n",
       "        vertical-align: top;\n",
       "    }\n",
       "\n",
       "    .dataframe thead th {\n",
       "        text-align: right;\n",
       "    }\n",
       "</style>\n",
       "<table border=\"1\" class=\"dataframe\">\n",
       "  <thead>\n",
       "    <tr style=\"text-align: right;\">\n",
       "      <th></th>\n",
       "      <th>indep_var1</th>\n",
       "      <th>indep_var2</th>\n",
       "      <th>dep_var</th>\n",
       "    </tr>\n",
       "  </thead>\n",
       "  <tbody>\n",
       "    <tr>\n",
       "      <th>0</th>\n",
       "      <td>0.302895</td>\n",
       "      <td>-0.395487</td>\n",
       "      <td>-1.638678</td>\n",
       "    </tr>\n",
       "    <tr>\n",
       "      <th>1</th>\n",
       "      <td>-0.523455</td>\n",
       "      <td>-0.914831</td>\n",
       "      <td>-3.212326</td>\n",
       "    </tr>\n",
       "    <tr>\n",
       "      <th>2</th>\n",
       "      <td>0.951251</td>\n",
       "      <td>0.054076</td>\n",
       "      <td>-1.418446</td>\n",
       "    </tr>\n",
       "    <tr>\n",
       "      <th>3</th>\n",
       "      <td>0.855762</td>\n",
       "      <td>-1.600258</td>\n",
       "      <td>-4.679363</td>\n",
       "    </tr>\n",
       "    <tr>\n",
       "      <th>4</th>\n",
       "      <td>-1.568088</td>\n",
       "      <td>-0.231314</td>\n",
       "      <td>-0.213751</td>\n",
       "    </tr>\n",
       "  </tbody>\n",
       "</table>\n",
       "</div>"
      ],
      "text/plain": [
       "   indep_var1  indep_var2   dep_var\n",
       "0    0.302895   -0.395487 -1.638678\n",
       "1   -0.523455   -0.914831 -3.212326\n",
       "2    0.951251    0.054076 -1.418446\n",
       "3    0.855762   -1.600258 -4.679363\n",
       "4   -1.568088   -0.231314 -0.213751"
      ]
     },
     "execution_count": 2,
     "metadata": {},
     "output_type": "execute_result"
    }
   ],
   "source": [
    "indep_var = np.random.normal(size = (100,2))\n",
    "data = pd.DataFrame(data = indep_var, columns = ['indep_var1','indep_var2'])\n",
    "data['dep_var'] = 2*data.indep_var1 + 3*data.indep_var2+np.random.normal(loc = 0, scale = 2, size=(len(data)))\n",
    "data.head()\n",
    "\n",
    "class MSE_Regression(opt.Model):\n",
    "    def __init__(self, data):\n",
    "        super().__init__(data)\n",
    "    \n",
    "    def predict(self, beta1, beta2):\n",
    "        return self.data['indep_var1']*beta1 + self.data['indep_var2']*beta2\n",
    "    \n",
    "    def loss(self, beta1, beta2):\n",
    "        prediction = self.predict(beta1, beta2)\n",
    "        return np.sum((prediction-self.data['dep_var'])**2)"
   ]
  },
  {
   "cell_type": "code",
   "execution_count": 4,
   "metadata": {},
   "outputs": [],
   "source": [
    "model = MSE_Regression(data)\n",
    "\n",
    "r_all = opt.minimize_over_data(model, [10,10], 'Gradient Descend', 300, stochastic = False, lr = 1e-4)\n",
    "r_all.x\n",
    "\n",
    "r_stoch = opt.minimize_over_data(model, [10,10], 'Gradient Descend', 10, stochastic = True, lr = 1e-3)\n",
    "r_stoch.x"
   ]
  },
  {
   "cell_type": "code",
   "execution_count": 7,
   "metadata": {},
   "outputs": [
    {
     "data": {
      "text/plain": [
       "<matplotlib.collections.PathCollection at 0x1106e12e8>"
      ]
     },
     "execution_count": 7,
     "metadata": {},
     "output_type": "execute_result"
    },
    {
     "data": {
      "image/png": "[encoded data removed]",
      "text/plain": [
       "<Figure size 432x288 with 1 Axes>"
      ]
     },
     "metadata": {},
     "output_type": "display_data"
    }
   ],
   "source": [
    "plt.scatter(np.array(r_all.val_rec)[:,0],np.array(r_all.val_rec)[:,1], alpha = .5)\n",
    "plt.scatter(np.array(r_stoch.val_rec)[:,0],np.array(r_stoch.val_rec)[:,1], alpha = .5)"
   ]
  },
  {
   "cell_type": "code",
   "execution_count": null,
   "metadata": {},
   "outputs": [],
   "source": []
  }
 ],
 "metadata": {
  "kernelspec": {
   "display_name": "Python 3",
   "language": "python",
   "name": "python3"
  },
  "language_info": {
   "codemirror_mode": {
    "name": "ipython",
    "version": 3
   },
   "file_extension": ".py",
   "mimetype": "text/x-python",
   "name": "python",
   "nbconvert_exporter": "python",
   "pygments_lexer": "ipython3",
   "version": "3.6.6"
  }
 },
 "nbformat": 4,
 "nbformat_minor": 2
}
