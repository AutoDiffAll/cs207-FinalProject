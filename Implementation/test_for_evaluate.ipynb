{
 "cells": [
  {
   "cell_type": "code",
   "execution_count": 1,
   "metadata": {},
   "outputs": [],
   "source": [
    "import sys\n",
    "try:\n",
    "    from Optimizer import minimize\n",
    "except:\n",
    "    from Implementation.Optimizer import minimize\n",
    "\n",
    "try:\n",
    "    sys.path.append('../AutoDiff')\n",
    "    from variables import Variable\n",
    "except:\n",
    "    from AutoDiff.variables import Variable\n",
    "\n",
    "    \n",
    "import numpy as np\n",
    "import matplotlib.pyplot as plt\n",
    "import matplotlib.colors as colors"
   ]
  },
  {
   "cell_type": "code",
   "execution_count": 2,
   "metadata": {},
   "outputs": [],
   "source": [
    "def plot_path_2D(val_arr,x_grid,y_grid,f_grid,title):\n",
    "    \n",
    "\n",
    "    plt.contourf(x_grid, y_grid, f_grid, cmap='Blues',\n",
    "                    norm=colors.LogNorm(vmin=f_grid.min(), vmax=f_grid.max())\n",
    "                    )\n",
    "    plt.colorbar(orientation='horizontal')\n",
    "\n",
    "    v0 = val_arr[0]\n",
    "    vends=val_arr[-1]\n",
    "    plt.plot(val_arr[:, 0], val_arr[:, 1], label='path',color='black',\n",
    "                linewidth=3.0)\n",
    "\n",
    "    plt.scatter(v0[0], v0[1], s=100, color='red', label='start')\n",
    "    plt.scatter(vends[0], vends[1], s=100, color='black', label='minimum')\n",
    "\n",
    "    plt.legend(fontsize=14)\n",
    "\n",
    "    plt.xlabel('x')\n",
    "    plt.ylabel('y')\n",
    "    plt.title('Start = [{0}, {1}]'.format(v0[0], v0[1]), fontsize=16)\n",
    "\n",
    "    plt.xlim([x_grid.min(), x_grid.max()])\n",
    "    plt.ylim([y_grid.min(), y_grid.max()])"
   ]
  },
  {
   "cell_type": "code",
   "execution_count": 3,
   "metadata": {},
   "outputs": [],
   "source": [
    "def f1(x, y): return 100*(y-x**2)**2 + (1-x)**2\n",
    "res = minimize(f1, [-1,1], method=\"Steepest Descend\")\n"
   ]
  },
  {
   "cell_type": "code",
   "execution_count": 4,
   "metadata": {},
   "outputs": [],
   "source": [
    "x_grid = np.linspace(-3, 3, 150)\n",
    "y_grid = np.linspace(-3, 4, 200)\n",
    "f_grid = f1(x_grid.reshape(1, -1),\n",
    "           y_grid.reshape(-1, 1))"
   ]
  },
  {
   "cell_type": "code",
   "execution_count": 5,
   "metadata": {},
   "outputs": [
    {
     "data": {
      "text/plain": [
       "array([[-1.        ,  1.        ],\n",
       "       [-0.99497478,  1.        ],\n",
       "       [-0.99497466,  0.98997435],\n",
       "       ...,\n",
       "       [ 0.91056594,  0.8291272 ],\n",
       "       [ 0.91083399,  0.82912814],\n",
       "       [ 0.91083229,  0.82961236]])"
      ]
     },
     "execution_count": 5,
     "metadata": {},
     "output_type": "execute_result"
    }
   ],
   "source": [
    "res.val_rec"
   ]
  },
  {
   "cell_type": "code",
   "execution_count": 6,
   "metadata": {},
   "outputs": [
    {
     "data": {
      "image/png": "[encoded data removed]",
      "text/plain": [
       "<Figure size 432x576 with 2 Axes>"
      ]
     },
     "metadata": {},
     "output_type": "display_data"
    }
   ],
   "source": [
    "plt.figure(figsize=(6,8))\n",
    "plot_path_2D(res.val_rec,x_grid,y_grid,f_grid,\"BFGS\")\n"
   ]
  }
 ],
 "metadata": {
  "kernelspec": {
   "display_name": "Python 3",
   "language": "python",
   "name": "python3"
  },
  "language_info": {
   "codemirror_mode": {
    "name": "ipython",
    "version": 3
   },
   "file_extension": ".py",
   "mimetype": "text/x-python",
   "name": "python",
   "nbconvert_exporter": "python",
   "pygments_lexer": "ipython3",
   "version": "3.6.5"
  },
  "toc": {
   "base_numbering": 1,
   "nav_menu": {},
   "number_sections": true,
   "sideBar": true,
   "skip_h1_title": false,
   "title_cell": "Table of Contents",
   "title_sidebar": "Contents",
   "toc_cell": false,
   "toc_position": {},
   "toc_section_display": true,
   "toc_window_display": false
  }
 },
 "nbformat": 4,
 "nbformat_minor": 2
}
