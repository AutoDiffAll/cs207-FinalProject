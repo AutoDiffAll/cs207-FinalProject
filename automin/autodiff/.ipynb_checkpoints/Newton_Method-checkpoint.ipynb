{
 "cells": [
  {
   "cell_type": "code",
   "execution_count": 1,
   "metadata": {},
   "outputs": [],
   "source": [
    "try:\n",
    "    from variables import Variable\n",
    "except:\n",
    "    from AutoDiff.variables import Variable\n",
    "try:\n",
    "    from vectorize_func import vectorize_variable\n",
    "except:\n",
    "    from AutoDiff.vectorize_func import vectorize_variable\n",
    "try:\n",
    "    import AD_numpy as anp\n",
    "except:\n",
    "    import AutoDiff.AD_numpy as anp\n",
    "import numpy as np\n",
    "from numpy.linalg import pinv\n",
    "from numpy.linalg import norm"
   ]
  },
  {
   "cell_type": "markdown",
   "metadata": {},
   "source": [
    "### Newton Method for Scalar Function"
   ]
  },
  {
   "cell_type": "code",
   "execution_count": 2,
   "metadata": {},
   "outputs": [],
   "source": [
    "def newton_method_scalar(fn, initial_val, threshold, max_iter, verbose=True):\n",
    "    \n",
    "    # create initial variables\n",
    "    # right now we only test with the 26 alphabets\n",
    "    from string import ascii_lowercase\n",
    "    import pandas as pd\n",
    "    \n",
    "    name_ls = iter(ascii_lowercase)\n",
    "    \n",
    "    # create initial variables\n",
    "    var_names = []\n",
    "    var = []\n",
    "    for i in initial_val:\n",
    "        name = next(name_ls)\n",
    "        var.append(Variable(name, i))\n",
    "        var_names.append(name)\n",
    "    \n",
    "    val = np.array(initial_val)\n",
    "    nums_iteration = 1\n",
    "    while True:\n",
    "        val_new = val - fn(*val) / list(fn(*var).der.values())\n",
    "        # recreate new variables with new values\n",
    "        var = []\n",
    "        for i, v in enumerate(val_new):\n",
    "            var.append(Variable(var_names[i], v))\n",
    "            \n",
    "        # print iteration output\n",
    "        if verbose is True:\n",
    "            print(f'Iteration at {nums_iteration}, at {val_new} ')\n",
    "        \n",
    "        # threshold stopping condition \n",
    "        if np.sqrt(np.sum((val_new - val)**2)) < threshold:\n",
    "            print(f'After {nums_iteration} iterations, found a root: {val_new}')\n",
    "            break\n",
    "        \n",
    "        # iteration stopping condition\n",
    "        if nums_iteration >= max_iter:\n",
    "            break\n",
    "        nums_iteration +=1\n",
    "        val = val_new"
   ]
  },
  {
   "cell_type": "code",
   "execution_count": 3,
   "metadata": {
    "scrolled": true
   },
   "outputs": [
    {
     "name": "stdout",
     "output_type": "stream",
     "text": [
      "Iteration at 1, at [4.5 3.5 2.5] \n",
      "Iteration at 2, at [3.75 2.75 1.75] \n",
      "Iteration at 3, at [4.125 3.125 2.125] \n",
      "Iteration at 4, at [3.9375 2.9375 1.9375] \n",
      "Iteration at 5, at [4.03125 3.03125 2.03125] \n",
      "Iteration at 6, at [3.984375 2.984375 1.984375] \n",
      "Iteration at 7, at [4.0078125 3.0078125 2.0078125] \n",
      "Iteration at 8, at [3.99609375 2.99609375 1.99609375] \n",
      "Iteration at 9, at [4.00195312 3.00195312 2.00195312] \n",
      "Iteration at 10, at [3.99902344 2.99902344 1.99902344] \n",
      "Iteration at 11, at [4.00048828 3.00048828 2.00048828] \n",
      "Iteration at 12, at [3.99975586 2.99975586 1.99975586] \n",
      "Iteration at 13, at [4.00012207 3.00012207 2.00012207] \n",
      "Iteration at 14, at [3.99993896 2.99993896 1.99993896] \n",
      "Iteration at 15, at [4.00003052 3.00003052 2.00003052] \n",
      "Iteration at 16, at [3.99998474 2.99998474 1.99998474] \n",
      "Iteration at 17, at [4.00000763 3.00000763 2.00000763] \n",
      "Iteration at 18, at [3.99999619 2.99999619 1.99999619] \n",
      "Iteration at 19, at [4.00000191 3.00000191 2.00000191] \n",
      "Iteration at 20, at [3.99999905 2.99999905 1.99999905] \n",
      "Iteration at 21, at [4.00000048 3.00000048 2.00000048] \n",
      "Iteration at 22, at [3.99999976 2.99999976 1.99999976] \n",
      "Iteration at 23, at [4.00000012 3.00000012 2.00000012] \n",
      "After 23 iterations, found a root: [4.00000012 3.00000012 2.00000012]\n"
     ]
    }
   ],
   "source": [
    "# an example\n",
    "f = lambda x, y, z: (x-4)**2 + (y-3)**2 + (z-2)**2\n",
    "newton_method_scalar(f, [3, 2, 1], 1e-6, 50, verbose=True)"
   ]
  },
  {
   "cell_type": "markdown",
   "metadata": {},
   "source": [
    "### Newton Method for Vector Function"
   ]
  },
  {
   "cell_type": "code",
   "execution_count": 4,
   "metadata": {},
   "outputs": [],
   "source": [
    "def newton_method_vector(fn, initial_val, threshold, max_iter, verbose=True):\n",
    "    \n",
    "    # create initial variables\n",
    "    # right now we only test with the 26 alphabets\n",
    "    from string import ascii_lowercase\n",
    "    \n",
    "    name_ls = iter(ascii_lowercase)\n",
    "    \n",
    "    # create initial variables\n",
    "    var_names = []\n",
    "    var = []\n",
    "    for i in initial_val:\n",
    "        name = next(name_ls)\n",
    "        var.append(Variable(name, i))\n",
    "        var_names.append(name)\n",
    "\n",
    "    val = np.array(initial_val)\n",
    "    nums_iteration = 1\n",
    "    while True:  \n",
    "        val_vector = fn(*var).val\n",
    "        jacobian = fn(*var).jacobian().values\n",
    "        d_x = np.dot(pinv(jacobian), val_vector)\n",
    "        \n",
    "        # update Variables after each iteration\n",
    "        var = []\n",
    "        for i in range(len(initial_val)):\n",
    "            val[i] = val[i] - d_x[i]\n",
    "            var.append(Variable(var_names[i], val[i]))\n",
    "        \n",
    "        # print iteration output\n",
    "        if verbose is True:\n",
    "            print(f'Iteration at {nums_iteration}, at {val}')\n",
    "        \n",
    "        # threshold stopping condition \n",
    "        if norm(fn(*var).val) < threshold:\n",
    "            print(f'After {nums_iteration} iterations, found a root: {val}')\n",
    "            break\n",
    "        \n",
    "        # iteration stopping condition\n",
    "        if nums_iteration >= max_iter:\n",
    "            break\n",
    "        nums_iteration +=1\n",
    "    return val"
   ]
  },
  {
   "cell_type": "code",
   "execution_count": 5,
   "metadata": {},
   "outputs": [],
   "source": [
    "# A user can freely modify the number of functions and the number of inputs. \n",
    "# For example, if one wants to have 2 functions with 3 inputs, a code below is an example. \n",
    "\n",
    "@vectorize_variable\n",
    "def vec_fn(x, y, z):\n",
    "    f1 = anp.cos(x) + anp.sin(y)+ anp.cos(z) \n",
    "    f2 = x**2 - y**2 - z**2\n",
    "    return np.array([f1,f2])\n",
    "x = Variable('x', np.pi)\n",
    "y = Variable('y', np.pi)\n",
    "z = Variable('z', np.pi)\n",
    "f = vec_fn(x,y,z)"
   ]
  },
  {
   "cell_type": "code",
   "execution_count": 6,
   "metadata": {},
   "outputs": [
    {
     "name": "stdout",
     "output_type": "stream",
     "text": [
      "[-2.        -9.8696044]\n",
      "Iteration at 1, at [2.92699082 1.14159265 3.35619449]\n",
      "[-1.0448251 -4.       ]\n",
      "Iteration at 2, at [3.63230984 4.60654298 2.19681605]\n",
      "[ -2.46232257 -12.85256422]\n",
      "Iteration at 3, at [ 4.61038753  5.19725699 -0.34993808]\n",
      "[-0.0471672  -5.87826369]\n",
      "Iteration at 4, at [ 4.83192692  4.82804193 -0.35324188]\n",
      "[ 0.06418995 -0.08725097]\n",
      "Iteration at 5, at [ 4.7844425   4.76931199 -0.38292099]\n",
      "[ 0.00118809 -0.00207529]\n",
      "Iteration at 6, at [ 4.78355737  4.76815504 -0.38356182]\n",
      "[ 4.49664438e-07 -9.65764036e-07]\n",
      "Iteration at 7, at [ 4.78355704  4.76815458 -0.38356207]\n",
      "After 7 iterations, found a root: [ 4.78355704  4.76815458 -0.38356207]\n"
     ]
    }
   ],
   "source": [
    "# Now, user can find a root.\n",
    "root = newton_method_vector(vec_fn, [np.pi, np.pi, np.pi], 1e-6, 50, verbose=True)"
   ]
  },
  {
   "cell_type": "code",
   "execution_count": 7,
   "metadata": {},
   "outputs": [
    {
     "data": {
      "text/plain": [
       "7.116529587847253e-14"
      ]
     },
     "execution_count": 7,
     "metadata": {},
     "output_type": "execute_result"
    }
   ],
   "source": [
    "# check if answers are correct\n",
    "np.cos(root[0]) + np.sin(root[1]) + np.cos(root[2])"
   ]
  },
  {
   "cell_type": "code",
   "execution_count": 8,
   "metadata": {},
   "outputs": [
    {
     "data": {
      "text/plain": [
       "-1.5457080060343742e-13"
      ]
     },
     "execution_count": 8,
     "metadata": {},
     "output_type": "execute_result"
    }
   ],
   "source": [
    "# check if answers are correct\n",
    "root[0]**2 - root[1]**2 - root[2]**2"
   ]
  }
 ],
 "metadata": {
  "kernelspec": {
   "display_name": "Python 3",
   "language": "python",
   "name": "python3"
  },
  "language_info": {
   "codemirror_mode": {
    "name": "ipython",
    "version": 3
   },
   "file_extension": ".py",
   "mimetype": "text/x-python",
   "name": "python",
   "nbconvert_exporter": "python",
   "pygments_lexer": "ipython3",
   "version": "3.6.5"
  }
 },
 "nbformat": 4,
 "nbformat_minor": 2
}
