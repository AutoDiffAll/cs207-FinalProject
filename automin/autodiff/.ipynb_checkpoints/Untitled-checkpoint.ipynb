{
 "cells": [
  {
   "cell_type": "code",
   "execution_count": 1,
   "metadata": {},
   "outputs": [],
   "source": [
    "try:\n",
    "    from variables import Variable\n",
    "except:\n",
    "    from AutoDiff.variables import Variable\n",
    "try:\n",
    "    from vectorize_func import vectorize_variable\n",
    "except:\n",
    "    from AutoDiff.vectorize_func import vectorize_variable\n",
    "try:\n",
    "    import AD_numpy as anp\n",
    "except:\n",
    "    import AutoDiff.AD_numpy as anp\n",
    "    \n",
    "try:\n",
    "    import Optimizer as op\n",
    "except:\n",
    "    import AutoDiff.Optimizer as op\n",
    "import numpy as np\n",
    "from numpy.linalg import pinv\n",
    "from numpy.linalg import norm"
   ]
  },
  {
   "cell_type": "code",
   "execution_count": 3,
   "metadata": {},
   "outputs": [
    {
     "data": {
      "text/plain": [
       "<Optimizer.Result at 0x194be8ac780>"
      ]
     },
     "execution_count": 3,
     "metadata": {},
     "output_type": "execute_result"
    }
   ],
   "source": [
    "f = lambda x, y, z: (x-2)**5 - (y-3)**2 + (z-4)**2\n",
    "#op.minimize(f, [3, 2, 1], method=\"Newton Method\")\n",
    "op.min_gradientdescent(f, [3, 2, 5], 1e-6, 50)"
   ]
  },
  {
   "cell_type": "code",
   "execution_count": 1,
   "metadata": {
    "scrolled": true
   },
   "outputs": [
    {
     "ename": "NameError",
     "evalue": "name 'op' is not defined",
     "output_type": "error",
     "traceback": [
      "\u001b[1;31m---------------------------------------------------------------------------\u001b[0m",
      "\u001b[1;31mNameError\u001b[0m                                 Traceback (most recent call last)",
      "\u001b[1;32m<ipython-input-1-7fdb743c6ce2>\u001b[0m in \u001b[0;36m<module>\u001b[1;34m()\u001b[0m\n\u001b[1;32m----> 1\u001b[1;33m \u001b[0mop\u001b[0m\u001b[1;33m.\u001b[0m\u001b[0mmin_steepestdescent\u001b[0m\u001b[1;33m(\u001b[0m\u001b[0mf\u001b[0m\u001b[1;33m,\u001b[0m \u001b[1;33m[\u001b[0m\u001b[1;36m3\u001b[0m\u001b[1;33m,\u001b[0m \u001b[1;36m2\u001b[0m\u001b[1;33m,\u001b[0m \u001b[1;36m5\u001b[0m\u001b[1;33m]\u001b[0m\u001b[1;33m,\u001b[0m \u001b[1;36m1e-1\u001b[0m\u001b[1;33m,\u001b[0m \u001b[1;36m50\u001b[0m\u001b[1;33m)\u001b[0m\u001b[1;33m\u001b[0m\u001b[0m\n\u001b[0m",
      "\u001b[1;31mNameError\u001b[0m: name 'op' is not defined"
     ]
    }
   ],
   "source": [
    "op.min_steepestdescent(f, [3, 2, 5], 1e-1, 50)"
   ]
  },
  {
   "cell_type": "code",
   "execution_count": 2,
   "metadata": {},
   "outputs": [
    {
     "name": "stdout",
     "output_type": "stream",
     "text": [
      "[2.94  2.142 4.9  ]\n",
      "[2.995272   2.11208933 4.9882    ]\n",
      "[2.93564979 2.24974101 4.88961322]\n",
      "[2.9905846  2.23214133 4.97661051]\n",
      "[2.93133605 2.3625136  4.8794063 ]\n",
      "[2.98593723 2.36035281 4.96522592]\n",
      "[2.9270583  2.48064489 4.86937462]\n",
      "[2.98132937 2.4968972  4.95404084]\n",
      "[2.92281605 2.60510284 4.85951369]\n",
      "[2.97676048 2.64231349 4.94305006]\n",
      "[2.91860884 2.73853412 4.84981919]\n",
      "[2.97223004 2.79891812 4.93224858]\n",
      "[2.91443621 2.88902826 4.84028694]\n",
      "[2.96773753 2.97958274 4.92163154]\n",
      "[2.91029771 2.96239976 4.83091292]\n",
      "[2.96328246 2.99386131 4.91119428]\n",
      "[2.9061929  2.98867028 4.82169324]\n",
      "[2.95886433 2.99823435 4.9009323 ]\n",
      "[2.90212134 2.9967391  4.81262413]\n",
      "[2.95448265 2.99949925 4.89084122]\n",
      "[2.8980826  2.999075   4.80370196]\n",
      "[2.95013695 2.99985856 4.88091686]\n",
      "[2.89407627 2.99973872 4.79492322]\n",
      "[2.94582677 2.9999601  4.87115513]\n",
      "[2.89010193 2.99992629 4.7862845 ]\n",
      "[2.94155164 2.99998875 4.86155212]\n",
      "[2.88615918 2.99997921 4.77778251]\n",
      "[2.93731111 2.99999683 4.85210403]\n",
      "[2.88224763 2.99999414 4.76941408]\n",
      "[2.93310475 2.99999911 4.84280717]\n",
      "[2.87836687 2.99999835 4.76117611]\n",
      "[2.92893211 2.99999975 4.83365798]\n",
      "[2.87451653 2.99999953 4.75306563]\n",
      "[2.92479277 2.99999993 4.82465304]\n",
      "[2.87069623 2.99999987 4.74507974]\n",
      "[2.92068632 2.99999998 4.815789  ]\n",
      "[2.8669056  2.99999996 4.73721565]\n",
      "[2.91661233 2.99999999 4.80706264]\n",
      "[2.86314427 2.99999999 4.72947062]\n",
      "[2.9125704  3.         4.79847082]\n",
      "[2.85941189 3.         4.72184204]\n",
      "[2.90856015 3.         4.79001052]\n",
      "[2.85570811 3.         4.71432735]\n",
      "[2.90458116 3.         4.78167881]\n",
      "[2.85203257 3.         4.70692407]\n",
      "[2.90063307 3.         4.77347283]\n",
      "[2.84838494 3.         4.6996298 ]\n",
      "[2.89671548 3.         4.76538982]\n",
      "[2.84476489 3.         4.6924422 ]\n",
      "[2.89282804 3.         4.7574271 ]\n",
      "[2.84117208 3.         4.68535902]\n"
     ]
    },
    {
     "data": {
      "text/plain": [
       "<Optimizer.Result at 0x2232c78fcc0>"
      ]
     },
     "execution_count": 2,
     "metadata": {},
     "output_type": "execute_result"
    }
   ],
   "source": [
    "def f(x):\n",
    "    return (x[0]-2)**2 + (x[1]-3)**2 + (x[2]-4)**2\n",
    "op.min_steepestdescent(f, [3, 2, 5], 1e-6, 50)\n"
   ]
  },
  {
   "cell_type": "code",
   "execution_count": 4,
   "metadata": {},
   "outputs": [
    {
     "name": "stdout",
     "output_type": "stream",
     "text": [
      "Optimization terminated successfully.\n",
      "         Current function value: 0.000000\n",
      "         Iterations: 68\n",
      "         Function evaluations: 124\n"
     ]
    },
    {
     "data": {
      "text/plain": [
       "array([2.00002227, 3.00002265, 3.99997193])"
      ]
     },
     "execution_count": 4,
     "metadata": {},
     "output_type": "execute_result"
    }
   ],
   "source": [
    "from scipy.optimize import fmin\n",
    "fmin(f, [3,2,3])"
   ]
  },
  {
   "cell_type": "code",
   "execution_count": 27,
   "metadata": {},
   "outputs": [
    {
     "name": "stdout",
     "output_type": "stream",
     "text": [
      "Optimization terminated successfully.\n",
      "         Current function value: -0.128375\n",
      "         Iterations: 18\n",
      "         Function evaluations: 36\n",
      "[-7.72528076]\n"
     ]
    }
   ],
   "source": [
    "import numpy\n",
    "import pylab\n",
    "from scipy.optimize import fmin\n",
    "\n",
    "# objective function\n",
    "rsinc = lambda x: -1 * numpy.sin(x)/x\n",
    "\n",
    "x0 = -5 # start from x = -5\n",
    "xmin0 = fmin(rsinc,x0)\n",
    "print(xmin0)"
   ]
  },
  {
   "cell_type": "code",
   "execution_count": 10,
   "metadata": {},
   "outputs": [
    {
     "data": {
      "text/plain": [
       "-0.12837455347220383"
      ]
     },
     "execution_count": 10,
     "metadata": {},
     "output_type": "execute_result"
    }
   ],
   "source": [
    "rsinc(-7.72528076)"
   ]
  }
 ],
 "metadata": {
  "kernelspec": {
   "display_name": "Python 3",
   "language": "python",
   "name": "python3"
  },
  "language_info": {
   "codemirror_mode": {
    "name": "ipython",
    "version": 3
   },
   "file_extension": ".py",
   "mimetype": "text/x-python",
   "name": "python",
   "nbconvert_exporter": "python",
   "pygments_lexer": "ipython3",
   "version": "3.6.5"
  }
 },
 "nbformat": 4,
 "nbformat_minor": 2
}
