{
 "cells": [
  {
   "cell_type": "code",
   "execution_count": 6,
   "metadata": {},
   "outputs": [],
   "source": [
    "import os\n",
    "import sys\n",
    "module_path = os.path.abspath(os.path.join('..'))\n",
    "if module_path not in sys.path:\n",
    "    sys.path.append(module_path)"
   ]
  },
  {
   "cell_type": "code",
   "execution_count": 7,
   "metadata": {},
   "outputs": [],
   "source": [
    "import automin.optimizer as opt\n",
    "import numpy as np\n",
    "import pandas as pd\n",
    "import matplotlib.pyplot as plt"
   ]
  },
  {
   "cell_type": "code",
   "execution_count": 8,
   "metadata": {},
   "outputs": [],
   "source": [
    "indep_var = np.random.normal(size = (100,2))\n",
    "data = pd.DataFrame(data = indep_var, columns = ['indep_var1','indep_var2'])\n",
    "data['dep_var'] = 2*data.indep_var1 + 3*data.indep_var2+np.random.normal(loc = 0, scale = 2, size=(len(data)))\n",
    "data.head()\n",
    "\n",
    "class MSE_Regression(opt.Model):\n",
    "    def predict(self, beta1, beta2):\n",
    "        return self.data['indep_var1']*beta1 + self.data['indep_var2']*beta2\n",
    "    \n",
    "    def loss(self, beta1, beta2):\n",
    "        prediction = self.predict(beta1, beta2)\n",
    "        return np.sum((prediction-self.data['dep_var'])**2)"
   ]
  },
  {
   "cell_type": "code",
   "execution_count": null,
   "metadata": {},
   "outputs": [],
   "source": [
    "model = MSE_Regression(data)\n",
    "\n",
    "r_all = opt.minimize_over_data(model, [10,10], 'Gradient Descend', 300, stochastic = False, lr = 1e-4)\n",
    "r_all.x"
   ]
  },
  {
   "cell_type": "code",
   "execution_count": 14,
   "metadata": {},
   "outputs": [
    {
     "name": "stderr",
     "output_type": "stream",
     "text": [
      "/Users/joshfeldman/Harvard/Courses/cs207/cs207_FinalProject/automin/optimizer.py:36: UserWarning: optimization did not converge\n",
      "  warnings.warn(\"optimization did not converge\")\n"
     ]
    },
    {
     "data": {
      "text/plain": [
       "array([1.93051265, 2.72734908])"
      ]
     },
     "execution_count": 14,
     "metadata": {},
     "output_type": "execute_result"
    }
   ],
   "source": [
    "r_stoch = opt.minimize_over_data(model, [10,10], 'Gradient Descend', 30, stochastic = True, lr = 1e-3)\n",
    "r_stoch.x"
   ]
  },
  {
   "cell_type": "code",
   "execution_count": 13,
   "metadata": {},
   "outputs": [
    {
     "data": {
      "text/plain": [
       "<matplotlib.collections.PathCollection at 0x1172ce048>"
      ]
     },
     "execution_count": 13,
     "metadata": {},
     "output_type": "execute_result"
    },
    {
     "data": {
      "image/png": "[encoded data removed]",
      "text/plain": [
       "<Figure size 432x288 with 1 Axes>"
      ]
     },
     "metadata": {},
     "output_type": "display_data"
    }
   ],
   "source": [
    "plt.scatter(np.array(r_all.val_rec)[:,0],np.array(r_all.val_rec)[:,1], alpha = .5)\n",
    "plt.scatter(np.array(r_stoch.val_rec)[:,0],np.array(r_stoch.val_rec)[:,1], alpha = .5)"
   ]
  },
  {
   "cell_type": "code",
   "execution_count": null,
   "metadata": {},
   "outputs": [],
   "source": []
  }
 ],
 "metadata": {
  "kernelspec": {
   "display_name": "Python 3",
   "language": "python",
   "name": "python3"
  },
  "language_info": {
   "codemirror_mode": {
    "name": "ipython",
    "version": 3
   },
   "file_extension": ".py",
   "mimetype": "text/x-python",
   "name": "python",
   "nbconvert_exporter": "python",
   "pygments_lexer": "ipython3",
   "version": "3.6.6"
  },
  "toc": {
   "base_numbering": 1,
   "nav_menu": {},
   "number_sections": true,
   "sideBar": true,
   "skip_h1_title": false,
   "title_cell": "Table of Contents",
   "title_sidebar": "Contents",
   "toc_cell": false,
   "toc_position": {},
   "toc_section_display": true,
   "toc_window_display": false
  }
 },
 "nbformat": 4,
 "nbformat_minor": 2
}
