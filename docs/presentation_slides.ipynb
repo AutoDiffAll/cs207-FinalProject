{
 "cells": [
  {
   "cell_type": "code",
   "execution_count": 5,
   "metadata": {
    "slideshow": {
     "slide_type": "skip"
    }
   },
   "outputs": [],
   "source": [
    "import numpy as np\n",
    "import pandas as pd\n",
    "import matplotlib.pyplot as plt\n",
    "import seaborn as sns\n",
    "%matplotlib inline\n",
    "\n",
    "import sys\n",
    "sys.path.insert(0, '../AutoDiff')\n",
    "import variables as v\n",
    "import AD_numpy as anp\n",
    "import vector_variables as vv\n",
    "sys.path.insert(0, '../Implementation')\n",
    "import Optimizer as op"
   ]
  },
  {
   "cell_type": "markdown",
   "metadata": {
    "slideshow": {
     "slide_type": "slide"
    }
   },
   "source": [
    "# An Optimization Package with AD functionalities"
   ]
  },
  {
   "cell_type": "markdown",
   "metadata": {
    "slideshow": {
     "slide_type": "slide"
    }
   },
   "source": [
    "## Motivation"
   ]
  },
  {
   "cell_type": "markdown",
   "metadata": {
    "slideshow": {
     "slide_type": "subslide"
    }
   },
   "source": [
    "### Motivation\n",
    "\n",
    "Taking derivatives is an essential operation in numerical methods, optimization, and science. From a computational perspective, however, calculating a derivative can be difficult.\n",
    "\n",
    "**Finite Differences** requires careful selection of $\\epsilon$\n",
    "\n",
    "**Symbolic Differentiation** is infeasible for complicated functions, especially for higher order derivatives"
   ]
  },
  {
   "cell_type": "markdown",
   "metadata": {
    "slideshow": {
     "slide_type": "subslide"
    }
   },
   "source": [
    "### Motivation\n",
    "\n",
    "**Automatic Differentiation** overcomes these challenges by providing both quick and accurate derivatives.\n",
    "\n",
    "This also allows us to provide optimization methods that are fast and accurate. Most of the standard optimization modules such as `scipy.optimize` do not rely on automatic differentiation. "
   ]
  },
  {
   "cell_type": "markdown",
   "metadata": {
    "slideshow": {
     "slide_type": "slide"
    }
   },
   "source": [
    "### Brief Mathematical Background "
   ]
  },
  {
   "cell_type": "markdown",
   "metadata": {},
   "source": [
    "..."
   ]
  },
  {
   "cell_type": "markdown",
   "metadata": {
    "slideshow": {
     "slide_type": "slide"
    }
   },
   "source": [
    "### Demo for AD module"
   ]
  },
  {
   "cell_type": "code",
   "execution_count": 12,
   "metadata": {
    "slideshow": {
     "slide_type": "fragment"
    }
   },
   "outputs": [],
   "source": [
    "# user has a given function\n",
    "f = lambda x, y: anp.exp(3*x) + anp.log(y/x)"
   ]
  },
  {
   "cell_type": "code",
   "execution_count": 13,
   "metadata": {
    "slideshow": {
     "slide_type": "fragment"
    }
   },
   "outputs": [
    {
     "data": {
      "text/plain": [
       "403.83425860084327"
      ]
     },
     "execution_count": 13,
     "metadata": {},
     "output_type": "execute_result"
    }
   ],
   "source": [
    "# he can calculate it's value\n",
    "f(2, 3)"
   ]
  },
  {
   "cell_type": "code",
   "execution_count": 16,
   "metadata": {
    "slideshow": {
     "slide_type": "fragment"
    }
   },
   "outputs": [],
   "source": [
    "# but now he wishes to get it's derivative\n",
    "a = v.Variable('a', 2)\n",
    "b = v.Variable('b', 3)\n",
    "res = f(a,b)"
   ]
  },
  {
   "cell_type": "code",
   "execution_count": 17,
   "metadata": {
    "slideshow": {
     "slide_type": "fragment"
    }
   },
   "outputs": [
    {
     "data": {
      "text/plain": [
       "403.83425860084327"
      ]
     },
     "execution_count": 17,
     "metadata": {},
     "output_type": "execute_result"
    }
   ],
   "source": [
    "# he can still get it's value\n",
    "res.val"
   ]
  },
  {
   "cell_type": "code",
   "execution_count": 18,
   "metadata": {
    "slideshow": {
     "slide_type": "fragment"
    }
   },
   "outputs": [
    {
     "data": {
      "text/plain": [
       "{'b': 0.3333333333333333, 'a': 1209.7863804782053}"
      ]
     },
     "execution_count": 18,
     "metadata": {},
     "output_type": "execute_result"
    }
   ],
   "source": [
    "# now he can get it's derivative as well\n",
    "res.jacobian()"
   ]
  },
  {
   "cell_type": "code",
   "execution_count": 19,
   "metadata": {
    "slideshow": {
     "slide_type": "fragment"
    }
   },
   "outputs": [
    {
     "data": {
      "text/plain": [
       "1209.7863804782053"
      ]
     },
     "execution_count": 19,
     "metadata": {},
     "output_type": "execute_result"
    }
   ],
   "source": [
    "# or just with respect to a variable\n",
    "res.partial_der(a)"
   ]
  },
  {
   "cell_type": "markdown",
   "metadata": {
    "slideshow": {
     "slide_type": "subslide"
    }
   },
   "source": [
    "**Suppose a user wants to find the root of a given function using "
   ]
  },
  {
   "cell_type": "code",
   "execution_count": null,
   "metadata": {
    "slideshow": {
     "slide_type": "subslide"
    }
   },
   "outputs": [],
   "source": [
    "def newton_method_scalar(fn, initial_val, threshold, max_iter, verbose=True):\n",
    "    \n",
    "    # create initial variables\n",
    "    # right now we only test with the 26 alphabets\n",
    "    from string import ascii_lowercase\n",
    "    import pandas as pd\n",
    "    \n",
    "    name_ls = iter(ascii_lowercase)\n",
    "    \n",
    "    # create initial variables\n",
    "    var_names = []\n",
    "    var = []\n",
    "    for i in initial_val:\n",
    "        name = next(name_ls)\n",
    "        var.append(Variable(name, i))\n",
    "        var_names.append(name)\n",
    "    \n",
    "    val = np.array(initial_val)\n",
    "    nums_iteration = 1\n",
    "    while True:\n",
    "        val_new = val - fn(*val) / list(fn(*var).der.values())\n",
    "        # recreate new variables with new values\n",
    "        var = []\n",
    "        for i, v in enumerate(val_new):\n",
    "            var.append(Variable(var_names[i], v))\n",
    "            \n",
    "        # print iteration output\n",
    "        if verbose is True:\n",
    "            print(f'Iteration at {nums_iteration}, at {val_new} ')\n",
    "        \n",
    "        # threshold stopping condition \n",
    "        if np.sqrt(np.sum((val_new - val)**2)) < threshold:\n",
    "            print(f'After {nums_iteration} iterations, found a root: {val_new}')\n",
    "            break\n",
    "        \n",
    "        # iteration stopping condition\n",
    "        if nums_iteration >= max_iter:\n",
    "            break\n",
    "        nums_iteration +=1\n",
    "        val = val_new"
   ]
  }
 ],
 "metadata": {
  "celltoolbar": "Slideshow",
  "kernelspec": {
   "display_name": "Python 3",
   "language": "python",
   "name": "python3"
  },
  "language_info": {
   "codemirror_mode": {
    "name": "ipython",
    "version": 3
   },
   "file_extension": ".py",
   "mimetype": "text/x-python",
   "name": "python",
   "nbconvert_exporter": "python",
   "pygments_lexer": "ipython3",
   "version": "3.7.0"
  }
 },
 "nbformat": 4,
 "nbformat_minor": 2
}
